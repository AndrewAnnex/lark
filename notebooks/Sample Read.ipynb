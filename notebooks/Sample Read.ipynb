{
 "cells": [
  {
   "cell_type": "code",
   "execution_count": 2,
   "metadata": {
    "collapsed": false
   },
   "outputs": [],
   "source": [
    "import h5py as h5"
   ]
  },
  {
   "cell_type": "markdown",
   "metadata": {},
   "source": [
    "Read the h5file"
   ]
  },
  {
   "cell_type": "code",
   "execution_count": 3,
   "metadata": {
    "collapsed": false
   },
   "outputs": [],
   "source": [
    "f = h5.File('/home/jlaura/krc_application/initialload.h5', 'r')"
   ]
  },
  {
   "cell_type": "markdown",
   "metadata": {},
   "source": [
    "Convert from lsubs to an early and late season index"
   ]
  },
  {
   "cell_type": "code",
   "execution_count": 24,
   "metadata": {
    "collapsed": false
   },
   "outputs": [],
   "source": [
    "groups = [k for k in f['/'].keys()]"
   ]
  },
  {
   "cell_type": "code",
   "execution_count": 25,
   "metadata": {
    "collapsed": false
   },
   "outputs": [],
   "source": [
    "startseason = 'season_10'\n",
    "stopseason = 'season_11'"
   ]
  },
  {
   "cell_type": "code",
   "execution_count": 34,
   "metadata": {
    "collapsed": false
   },
   "outputs": [
    {
     "name": "stdout",
     "output_type": "stream",
     "text": [
      "8.58724953125\n"
     ]
    }
   ],
   "source": [
    "RECORD_START_DATE = 144.61074994\n",
    "MARTIAN_DAY = 8.5875\n",
    "YEAR = 686.9799625\n",
    "NSEASONS = 80\n",
    "SEASON_LENGTH = YEAR / float (NSEASONS)\n",
    "date = 231.108967063\n",
    "\n",
    "print(SEASON_LENGTH)\n",
    "\n",
    "def j2season(_date):\n",
    "    \"\"\"\n",
    "    Ls date to a KRC season.\n",
    "\n",
    "    Parameters\n",
    "    -----------\n",
    "    _date : float\n",
    "   \t    The input date to be converted\n",
    "\n",
    "    Returns\n",
    "    -------\n",
    "    startseason : int\n",
    "\t\t  The integer index to the start season\n",
    "    stopseasons : int\n",
    "\t\t  The integer index to the stop season\n",
    "    \"\"\"\n",
    "    date = _date\n",
    "    if date < RECORD_START_DATE:\n",
    "        remainder = (RECORD_START_DATE - date) / YEAR\n",
    "        date = date + int(remainder + 1.0) * YEAR\n",
    "    dateoffset = (date - RECORD_START_DATE) % YEAR\n",
    "    recordoffset = dateoffset / MARTIAN_DAY\n",
    "    startseason = int(recordoffset)\n",
    "    stopseason = startseason + 1\n",
    "    return recordoffset, startseason, stopseason"
   ]
  },
  {
   "cell_type": "code",
   "execution_count": 35,
   "metadata": {
    "collapsed": false
   },
   "outputs": [
    {
     "data": {
      "text/plain": [
       "(10.072572590742356, 10, 11)"
      ]
     },
     "execution_count": 35,
     "metadata": {},
     "output_type": "execute_result"
    }
   ],
   "source": [
    "j2season(date)"
   ]
  },
  {
   "cell_type": "code",
   "execution_count": null,
   "metadata": {
    "collapsed": true
   },
   "outputs": [],
   "source": []
  }
 ],
 "metadata": {
  "kernelspec": {
   "display_name": "Python 3",
   "language": "python",
   "name": "python3"
  },
  "language_info": {
   "codemirror_mode": {
    "name": "ipython",
    "version": 3
   },
   "file_extension": ".py",
   "mimetype": "text/x-python",
   "name": "python",
   "nbconvert_exporter": "python",
   "pygments_lexer": "ipython3",
   "version": "3.4.3"
  }
 },
 "nbformat": 4,
 "nbformat_minor": 0
}
