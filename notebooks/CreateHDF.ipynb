{
 "metadata": {
  "name": "",
  "signature": "sha256:0b4477b385a877dd8fb994eb29b2a9791848ce949777e83c9c18c28cb6a3196f"
 },
 "nbformat": 3,
 "nbformat_minor": 0,
 "worksheets": [
  {
   "cells": [
    {
     "cell_type": "code",
     "collapsed": false,
     "input": [
      "import h5py as h5\n",
      "import numpy as np\n",
      "import math\n",
      "import os"
     ],
     "language": "python",
     "metadata": {},
     "outputs": [],
     "prompt_number": 10
    },
    {
     "cell_type": "code",
     "collapsed": false,
     "input": [
      "f = h5.File('initialload.h5', 'w')"
     ],
     "language": "python",
     "metadata": {},
     "outputs": [],
     "prompt_number": 18
    },
    {
     "cell_type": "code",
     "collapsed": false,
     "input": [
      "seasonhandles = []\n",
      "for i in range(80):\n",
      "    s = f.create_dataset(\"season_{}\".format(i), (18, 37, 40500), chunks=(18, 37, 20), dtype=np.float32, compression=\"gzip\", compression_opts=5)\n",
      "    seasonhandles.append(s)"
     ],
     "language": "python",
     "metadata": {},
     "outputs": [],
     "prompt_number": 19
    },
    {
     "cell_type": "code",
     "collapsed": false,
     "input": [
      "print seasonhandles[0].shape"
     ],
     "language": "python",
     "metadata": {},
     "outputs": [
      {
       "output_type": "stream",
       "stream": "stdout",
       "text": [
        "(18, 37, 40500)\n"
       ]
      }
     ],
     "prompt_number": 13
    },
    {
     "cell_type": "markdown",
     "metadata": {},
     "source": [
      "##Constants\n",
      "These are a collection of magic numbers that are used in KRC to define where in the binary file data is written."
     ]
    },
    {
     "cell_type": "code",
     "collapsed": false,
     "input": [
      "archtype2struct={'sparc': None, 'bigend': '>', 'litend': '<',\n",
      "          'alpha': None, 'ppc': None, 'x86': None, 'x86_64': None}\n",
      "idl2struct = {4: 'f', 5:'d'}\n",
      "idl2np_dtype = {1: np.byte, 2: np.int16, 3: np.int32, 4: np.float32,\n",
      "                5: np.float64}\n",
      "\n",
      "YEAR = 686.9799625\n",
      "MEAN_PRESSURE = 689.700012\n",
      "\n",
      "#We only use 18 of the 48 possible times at indices:\n",
      "time_idx = [0,3, 6, 7, 8, 9, 10, 12, 14, 16, 24, 28, 32, 35, 36, 40, 44, 47]\n",
      "\n",
      "nheader_records = 1.0\n",
      "\n",
      "#Data starts at 56832\n",
      "numfd = 96  # Size of floats of T-dependent materials\n",
      "numid = 40  # size of \"  \" integers\n",
      "numld = 20  # size of \"  \" logicals\n",
      "maxn1 = 30  # dimension of layers\n",
      "maxn2 = 384 * 4  # dimensions of times of day\n",
      "maxn3 = 16  # dimensions of iterations days\n",
      "maxn4 = 37  # dimensions of latitudes\n",
      "maxn5 = 161 # dimensions of seasons\n",
      "maxn6 = 6  # dimensions of saved years\n",
      "maxnh = 48  # dimensions of saved times of day\n",
      "maxbot = 6  # dimensions of time divisions\n",
      "numtit = 20  # number of 4-byte words in TITLE\n",
      "numday = 5  # number of 4-byte words in DAY\n",
      "e = '<'\n",
      "\n",
      "krcstructure = np.dtype([('fd','{}{}d'.format(e, numfd)),\n",
      "                                               ('alat','{}{}d'.format(e, maxn4)),\n",
      "                                               ('elevation','{}{}d'.format(e,maxn4) ),\n",
      "                                               ('id','{}{}i'.format(e, numid)),\n",
      "                                               ('ld','{}{}i'.format(e, numld)),\n",
      "                                               ('title','{}{}a'.format(e, 4 * numtit) ),\n",
      "                                               ('daytime','{}{}a'.format(e, 4 * numday))])"
     ],
     "language": "python",
     "metadata": {},
     "outputs": [],
     "prompt_number": 14
    },
    {
     "cell_type": "markdown",
     "metadata": {},
     "source": [
      "##Read Parameters\n",
      "These are the parameters used to generate the model.  Ideally these could beread from either the input data or the parameters.config file used to run the model, but we know these a priori."
     ]
    },
    {
     "cell_type": "code",
     "collapsed": false,
     "input": [
      "y = np.arange(48)\n",
      "time_idx = [0,3, 6, 7, 8, 9, 10, 12, 14, 16, 24, 28, 32, 35, 36, 40, 44, 47]\n",
      "y[time_idx]"
     ],
     "language": "python",
     "metadata": {},
     "outputs": [
      {
       "metadata": {},
       "output_type": "pyout",
       "prompt_number": 22,
       "text": [
        "array([ 0,  3,  6,  7,  8,  9, 10, 12, 14, 16, 24, 28, 32, 35, 36, 40, 44,\n",
        "       47])"
       ]
      }
     ],
     "prompt_number": 22
    },
    {
     "cell_type": "code",
     "collapsed": false,
     "input": [
      "def computeinertia(inertia):\n",
      "    \"\"\"\n",
      "    \"\"\"\n",
      "    ya = math.log(inertia[0])  # Low inertia\n",
      "    yb = math.log(inertia[1])  # High inertia\n",
      "    ninertia = inertia[2]  # Number of inertia steps\n",
      "    norm = (yb - ya) / (ninertia - 1.0)\n",
      "    iner = np.exp(ya + np.arange(ninertia) * norm)\n",
      "\n",
      "    return iner\n",
      "\n",
      "albedos = [0.08, 0.22, 0.32]\n",
      "slope_azimuths = [0, 75, 210, 285, 360]\n",
      "slopes = [0, 30, 60]\n",
      "taus = [0.02, 0.30, 0.62]\n",
      "elevations = [-5.0, -2.0, -1.0, 6.0, 8.0]\n",
      "inertias = [24, 3000, 20]\n",
      "inertias = computeinertia(inertias).tolist()\n",
      "print inertias\n",
      "emissivities = [0.85, 0.90, 1.00]\n",
      "elevationdir = {-5.0: 'neg5', -2.0:'neg2', -1.0:'neg1',\n",
      "                6.0:'six', 8.0:'eight'}\n",
      "albstr = 'a'\n",
      "inertiastr = 'sk'\n",
      "taustr = 't'\n",
      "ext = '.tds'\n",
      "\n",
      "#Start offset into the binary data.\n",
      "nlats = maxn4\n",
      "nhours = maxnh\n",
      "datastart = nlats * nhours * 32\n",
      "\n",
      "#Subset indices to those times which are to be used as nodes\n",
      "time_idx = [0,3, 6, 7, 8, 9, 10, 12, 14, 16, 24, 28, 32, 35, 36, 40, 44, 47]\n"
     ],
     "language": "python",
     "metadata": {},
     "outputs": [
      {
       "output_type": "stream",
       "stream": "stdout",
       "text": [
        "[24.000000000000004, 30.943891285395488, 39.8968503284323, 51.44015829969601, 66.32327775538865, 85.51251235640981, 110.25374524574093, 142.15332944549576, 183.28238217576796, 236.31125452396952, 304.6829070627138, 392.8364480277869, 506.4953475296977, 653.0390404382318, 841.9820446849857, 1085.5917022911328, 1399.684650667676, 1804.6537360040572, 2326.792042278847, 2999.9999999999977]\n"
       ]
      }
     ],
     "prompt_number": 21
    },
    {
     "cell_type": "markdown",
     "metadata": {},
     "source": [
      "##Validation\n",
      "These are known constants in the header that we use to ensure that all files were properly generated."
     ]
    },
    {
     "cell_type": "code",
     "collapsed": false,
     "input": [
      "latitudes = np.array([[-90., -85., -80., -75., -70., -65., -60., -55., -50., -45., -40.,\n",
      "        -35., -30., -25., -20., -15., -10.,  -5.,   0.,   5.,  10.,  15.,\n",
      "         20.,  25.,  30.,  35.,  40.,  45.,  50.,  55.,  60.,  65.,  70.,\n",
      "         75.,  80.,  85.,  90.]])\n",
      "header_id = np.array([[ 20, 384,  15,  37, 320,  48,   0,   7,   3,  24, 406, 241,   0,\n",
      "         45,  65,   1,  -1,   0,  20,   0,   0,   0,   0,   0,   0,   0,\n",
      "          0,  64,  20,  20,  19,   2,   1,   8,  20,   1,   0,   3,  37,\n",
      "        241]], dtype=np.int32)"
     ],
     "language": "python",
     "metadata": {},
     "outputs": [],
     "prompt_number": 16
    },
    {
     "cell_type": "markdown",
     "metadata": {},
     "source": [
      "##Packing\n",
      "This is the brute force packing that extracts the individual binary files and then packs them into a single HDF5 file."
     ]
    },
    {
     "cell_type": "code",
     "collapsed": false,
     "input": [
      "def extractdata(infile):\n",
      "    \"\"\"\n",
      "    Parameters\n",
      "    ----------\n",
      "    infile    str Input file PATH\n",
      "    \n",
      "    Returns\n",
      "              ndarray 18 x 37 x nseason array\n",
      "    \"\"\"\n",
      "    with open(infile, 'rb') as f:\n",
      "        f.seek(datastart)\n",
      "        data64 = np.fromfile(f, dtype=np.float64)\n",
      "    data32 = data64.astype(np.float32)\n",
      "    return data32.reshape(96, 37, -1, order='F')\n",
      "\n",
      "#The index here is the dimension into the 18 x 37 x nparams array for each season, where nparams is the number of parameter combinations\n",
      "index = 0\n",
      "for emissivity in emissivities:\n",
      "    fnameemis = 'es{0:03d}'.format(int(emissivity * 100))\n",
      "    for elevation in elevations:\n",
      "        outdir = elevationdir[elevation]\n",
      "        if elevation < 0:\n",
      "            elevstr = 'em'\n",
      "        else:\n",
      "            elevstr = 'ep'\n",
      "        fnameelev = elevstr + str(abs(int(elevation)))\n",
      "        for slopeaz in slope_azimuths:\n",
      "            fnameslopeaz = 'az{0:03d}'.format(int(slopeaz))\n",
      "            for slope in slopes:\n",
      "                fnameslope = 'sl{0:03d}'.format(int(slope))\n",
      "                for tau in taus:\n",
      "                    fnametau = taustr + \"{0:03d}\".format(int(tau * 100))\n",
      "                    for albedo in albedos:\n",
      "                        fnamealbedo = albstr + \"{0:03d}\".format(int(albedo * 100))\n",
      "                        for j, inertia in enumerate(inertias):\n",
      "                            packingarrays = [np.empty((18,37,20), dtype=np.int32) for i in range(80)]\n",
      "                            \n",
      "                            fnameinertia = inertiastr + \"{0:04d}\".format(int(inertia))\n",
      "                            infile = os.path.join('/Volumes/Scratch/KRC/KRC_Models',outdir, \n",
      "                                                  fnameinertia + fnamealbedo +\\\n",
      "                                                  fnametau + fnameemis + fnameelev + fnameslopeaz + fnameslope + ext)\n",
      "                            #header = np.fromfile(infile, dtype=krcstructure, count=1)\n",
      "                            #np.testing.assert_array_equal(header['id'], header_id, 'Error in file {} matching header id'.format(infile))\n",
      "                            #np.testing.assert_array_equal(header['alat'], latitudes, 'Error in file {} matching latitudes'.format(infile))\n",
      "                            \n",
      "                            data = extractdata(infile)\n",
      "                            for i in range(0,160,2):\n",
      "                                season_idx = i / 2\n",
      "                                #The [:48] is because the input data has 96 entries, of which the last 48 are 0.0 padding\n",
      "                                seasonhandles[season_idx][:,:,index] = data[time_idx,:,i][:48]\n",
      "                            index += 1\n",
      "                        if index % 60 == 0:\n",
      "                            print index,\n",
      "#Close the hdf5 file\n",
      "f.close()\n"
     ],
     "language": "python",
     "metadata": {},
     "outputs": [
      {
       "output_type": "stream",
       "stream": "stdout",
       "text": [
        "60 "
       ]
      },
      {
       "output_type": "stream",
       "stream": "stdout",
       "text": [
        "120 "
       ]
      },
      {
       "output_type": "stream",
       "stream": "stdout",
       "text": [
        "180 "
       ]
      },
      {
       "output_type": "stream",
       "stream": "stdout",
       "text": [
        "240 "
       ]
      },
      {
       "output_type": "stream",
       "stream": "stdout",
       "text": [
        "300 "
       ]
      },
      {
       "output_type": "stream",
       "stream": "stdout",
       "text": [
        "360 "
       ]
      },
      {
       "output_type": "stream",
       "stream": "stdout",
       "text": [
        "420 "
       ]
      },
      {
       "output_type": "stream",
       "stream": "stdout",
       "text": [
        "480 "
       ]
      },
      {
       "output_type": "stream",
       "stream": "stdout",
       "text": [
        "540 "
       ]
      },
      {
       "output_type": "stream",
       "stream": "stdout",
       "text": [
        "600 "
       ]
      },
      {
       "output_type": "stream",
       "stream": "stdout",
       "text": [
        "660 "
       ]
      },
      {
       "output_type": "stream",
       "stream": "stdout",
       "text": [
        "720 "
       ]
      },
      {
       "output_type": "stream",
       "stream": "stdout",
       "text": [
        "780 "
       ]
      },
      {
       "output_type": "stream",
       "stream": "stdout",
       "text": [
        "840 "
       ]
      },
      {
       "output_type": "stream",
       "stream": "stdout",
       "text": [
        "900 "
       ]
      },
      {
       "output_type": "stream",
       "stream": "stdout",
       "text": [
        "960 "
       ]
      },
      {
       "output_type": "stream",
       "stream": "stdout",
       "text": [
        "1020 "
       ]
      },
      {
       "output_type": "stream",
       "stream": "stdout",
       "text": [
        "1080 "
       ]
      },
      {
       "output_type": "stream",
       "stream": "stdout",
       "text": [
        "1140 "
       ]
      },
      {
       "output_type": "stream",
       "stream": "stdout",
       "text": [
        "1200 "
       ]
      },
      {
       "output_type": "stream",
       "stream": "stdout",
       "text": [
        "1260 "
       ]
      },
      {
       "output_type": "stream",
       "stream": "stdout",
       "text": [
        "1320 "
       ]
      },
      {
       "output_type": "stream",
       "stream": "stdout",
       "text": [
        "1380 "
       ]
      },
      {
       "output_type": "stream",
       "stream": "stdout",
       "text": [
        "1440 "
       ]
      },
      {
       "output_type": "stream",
       "stream": "stdout",
       "text": [
        "1500 "
       ]
      },
      {
       "output_type": "stream",
       "stream": "stdout",
       "text": [
        "1560 "
       ]
      },
      {
       "output_type": "stream",
       "stream": "stdout",
       "text": [
        "1620 "
       ]
      },
      {
       "output_type": "stream",
       "stream": "stdout",
       "text": [
        "1680 "
       ]
      },
      {
       "output_type": "stream",
       "stream": "stdout",
       "text": [
        "1740 "
       ]
      },
      {
       "output_type": "stream",
       "stream": "stdout",
       "text": [
        "1800 "
       ]
      },
      {
       "output_type": "stream",
       "stream": "stdout",
       "text": [
        "1860 "
       ]
      },
      {
       "output_type": "stream",
       "stream": "stdout",
       "text": [
        "1920 "
       ]
      },
      {
       "output_type": "stream",
       "stream": "stdout",
       "text": [
        "1980 "
       ]
      },
      {
       "output_type": "stream",
       "stream": "stdout",
       "text": [
        "2040 "
       ]
      },
      {
       "output_type": "stream",
       "stream": "stdout",
       "text": [
        "2100 "
       ]
      },
      {
       "output_type": "stream",
       "stream": "stdout",
       "text": [
        "2160 "
       ]
      },
      {
       "output_type": "stream",
       "stream": "stdout",
       "text": [
        "2220 "
       ]
      },
      {
       "output_type": "stream",
       "stream": "stdout",
       "text": [
        "2280 "
       ]
      },
      {
       "output_type": "stream",
       "stream": "stdout",
       "text": [
        "2340 "
       ]
      },
      {
       "output_type": "stream",
       "stream": "stdout",
       "text": [
        "2400 "
       ]
      },
      {
       "output_type": "stream",
       "stream": "stdout",
       "text": [
        "2460 "
       ]
      },
      {
       "output_type": "stream",
       "stream": "stdout",
       "text": [
        "2520 "
       ]
      },
      {
       "output_type": "stream",
       "stream": "stdout",
       "text": [
        "2580 "
       ]
      },
      {
       "output_type": "stream",
       "stream": "stdout",
       "text": [
        "2640 "
       ]
      },
      {
       "output_type": "stream",
       "stream": "stdout",
       "text": [
        "2700 "
       ]
      },
      {
       "output_type": "stream",
       "stream": "stdout",
       "text": [
        "2760 "
       ]
      },
      {
       "output_type": "stream",
       "stream": "stdout",
       "text": [
        "2820 "
       ]
      },
      {
       "output_type": "stream",
       "stream": "stdout",
       "text": [
        "2880 "
       ]
      },
      {
       "output_type": "stream",
       "stream": "stdout",
       "text": [
        "2940 "
       ]
      },
      {
       "output_type": "stream",
       "stream": "stdout",
       "text": [
        "3000 "
       ]
      },
      {
       "output_type": "stream",
       "stream": "stdout",
       "text": [
        "3060 "
       ]
      },
      {
       "output_type": "stream",
       "stream": "stdout",
       "text": [
        "3120 "
       ]
      },
      {
       "output_type": "stream",
       "stream": "stdout",
       "text": [
        "3180 "
       ]
      },
      {
       "output_type": "stream",
       "stream": "stdout",
       "text": [
        "3240 "
       ]
      },
      {
       "output_type": "stream",
       "stream": "stdout",
       "text": [
        "3300 "
       ]
      },
      {
       "output_type": "stream",
       "stream": "stdout",
       "text": [
        "3360 "
       ]
      },
      {
       "output_type": "stream",
       "stream": "stdout",
       "text": [
        "3420 "
       ]
      },
      {
       "output_type": "stream",
       "stream": "stdout",
       "text": [
        "3480 "
       ]
      },
      {
       "output_type": "stream",
       "stream": "stdout",
       "text": [
        "3540 "
       ]
      },
      {
       "output_type": "stream",
       "stream": "stdout",
       "text": [
        "3600 "
       ]
      },
      {
       "output_type": "stream",
       "stream": "stdout",
       "text": [
        "3660 "
       ]
      },
      {
       "output_type": "stream",
       "stream": "stdout",
       "text": [
        "3720 "
       ]
      },
      {
       "output_type": "stream",
       "stream": "stdout",
       "text": [
        "3780 "
       ]
      },
      {
       "output_type": "stream",
       "stream": "stdout",
       "text": [
        "3840 "
       ]
      },
      {
       "output_type": "stream",
       "stream": "stdout",
       "text": [
        "3900 "
       ]
      },
      {
       "output_type": "stream",
       "stream": "stdout",
       "text": [
        "3960 "
       ]
      },
      {
       "output_type": "stream",
       "stream": "stdout",
       "text": [
        "4020 "
       ]
      },
      {
       "output_type": "stream",
       "stream": "stdout",
       "text": [
        "4080 "
       ]
      },
      {
       "output_type": "stream",
       "stream": "stdout",
       "text": [
        "4140 "
       ]
      },
      {
       "output_type": "stream",
       "stream": "stdout",
       "text": [
        "4200 "
       ]
      },
      {
       "output_type": "stream",
       "stream": "stdout",
       "text": [
        "4260 "
       ]
      },
      {
       "output_type": "stream",
       "stream": "stdout",
       "text": [
        "4320 "
       ]
      },
      {
       "output_type": "stream",
       "stream": "stdout",
       "text": [
        "4380 "
       ]
      },
      {
       "output_type": "stream",
       "stream": "stdout",
       "text": [
        "4440 "
       ]
      },
      {
       "output_type": "stream",
       "stream": "stdout",
       "text": [
        "4500 "
       ]
      },
      {
       "output_type": "stream",
       "stream": "stdout",
       "text": [
        "4560 "
       ]
      },
      {
       "output_type": "stream",
       "stream": "stdout",
       "text": [
        "4620 "
       ]
      },
      {
       "output_type": "stream",
       "stream": "stdout",
       "text": [
        "4680 "
       ]
      },
      {
       "output_type": "stream",
       "stream": "stdout",
       "text": [
        "4740 "
       ]
      },
      {
       "output_type": "stream",
       "stream": "stdout",
       "text": [
        "4800 "
       ]
      },
      {
       "output_type": "stream",
       "stream": "stdout",
       "text": [
        "4860 "
       ]
      },
      {
       "output_type": "stream",
       "stream": "stdout",
       "text": [
        "4920 "
       ]
      },
      {
       "output_type": "stream",
       "stream": "stdout",
       "text": [
        "4980 "
       ]
      },
      {
       "output_type": "stream",
       "stream": "stdout",
       "text": [
        "5040 "
       ]
      },
      {
       "output_type": "stream",
       "stream": "stdout",
       "text": [
        "5100 "
       ]
      },
      {
       "output_type": "stream",
       "stream": "stdout",
       "text": [
        "5160 "
       ]
      },
      {
       "output_type": "stream",
       "stream": "stdout",
       "text": [
        "5220 "
       ]
      },
      {
       "output_type": "stream",
       "stream": "stdout",
       "text": [
        "5280 "
       ]
      },
      {
       "output_type": "stream",
       "stream": "stdout",
       "text": [
        "5340 "
       ]
      },
      {
       "output_type": "stream",
       "stream": "stdout",
       "text": [
        "5400 "
       ]
      },
      {
       "output_type": "stream",
       "stream": "stdout",
       "text": [
        "5460 "
       ]
      },
      {
       "output_type": "stream",
       "stream": "stdout",
       "text": [
        "5520 "
       ]
      },
      {
       "output_type": "stream",
       "stream": "stdout",
       "text": [
        "5580 "
       ]
      },
      {
       "output_type": "stream",
       "stream": "stdout",
       "text": [
        "5640 "
       ]
      },
      {
       "output_type": "stream",
       "stream": "stdout",
       "text": [
        "5700 "
       ]
      },
      {
       "output_type": "stream",
       "stream": "stdout",
       "text": [
        "5760 "
       ]
      },
      {
       "output_type": "stream",
       "stream": "stdout",
       "text": [
        "5820 "
       ]
      },
      {
       "output_type": "stream",
       "stream": "stdout",
       "text": [
        "5880 "
       ]
      },
      {
       "output_type": "stream",
       "stream": "stdout",
       "text": [
        "5940 "
       ]
      },
      {
       "output_type": "stream",
       "stream": "stdout",
       "text": [
        "6000 "
       ]
      },
      {
       "output_type": "stream",
       "stream": "stdout",
       "text": [
        "6060 "
       ]
      },
      {
       "output_type": "stream",
       "stream": "stdout",
       "text": [
        "6120 "
       ]
      },
      {
       "output_type": "stream",
       "stream": "stdout",
       "text": [
        "6180 "
       ]
      },
      {
       "output_type": "stream",
       "stream": "stdout",
       "text": [
        "6240 "
       ]
      },
      {
       "output_type": "stream",
       "stream": "stdout",
       "text": [
        "6300 "
       ]
      },
      {
       "output_type": "stream",
       "stream": "stdout",
       "text": [
        "6360 "
       ]
      },
      {
       "output_type": "stream",
       "stream": "stdout",
       "text": [
        "6420 "
       ]
      },
      {
       "output_type": "stream",
       "stream": "stdout",
       "text": [
        "6480 "
       ]
      },
      {
       "output_type": "stream",
       "stream": "stdout",
       "text": [
        "6540 "
       ]
      },
      {
       "output_type": "stream",
       "stream": "stdout",
       "text": [
        "6600 "
       ]
      },
      {
       "output_type": "stream",
       "stream": "stdout",
       "text": [
        "6660 "
       ]
      },
      {
       "output_type": "stream",
       "stream": "stdout",
       "text": [
        "6720 "
       ]
      },
      {
       "output_type": "stream",
       "stream": "stdout",
       "text": [
        "6780 "
       ]
      },
      {
       "output_type": "stream",
       "stream": "stdout",
       "text": [
        "6840 "
       ]
      },
      {
       "output_type": "stream",
       "stream": "stdout",
       "text": [
        "6900 "
       ]
      },
      {
       "output_type": "stream",
       "stream": "stdout",
       "text": [
        "6960 "
       ]
      },
      {
       "output_type": "stream",
       "stream": "stdout",
       "text": [
        "7020 "
       ]
      },
      {
       "output_type": "stream",
       "stream": "stdout",
       "text": [
        "7080 "
       ]
      },
      {
       "output_type": "stream",
       "stream": "stdout",
       "text": [
        "7140 "
       ]
      },
      {
       "output_type": "stream",
       "stream": "stdout",
       "text": [
        "7200 "
       ]
      },
      {
       "output_type": "stream",
       "stream": "stdout",
       "text": [
        "7260 "
       ]
      },
      {
       "output_type": "stream",
       "stream": "stdout",
       "text": [
        "7320 "
       ]
      },
      {
       "output_type": "stream",
       "stream": "stdout",
       "text": [
        "7380 "
       ]
      },
      {
       "output_type": "stream",
       "stream": "stdout",
       "text": [
        "7440 "
       ]
      },
      {
       "output_type": "stream",
       "stream": "stdout",
       "text": [
        "7500 "
       ]
      },
      {
       "output_type": "stream",
       "stream": "stdout",
       "text": [
        "7560 "
       ]
      },
      {
       "output_type": "stream",
       "stream": "stdout",
       "text": [
        "7620 "
       ]
      },
      {
       "output_type": "stream",
       "stream": "stdout",
       "text": [
        "7680 "
       ]
      },
      {
       "output_type": "stream",
       "stream": "stdout",
       "text": [
        "7740 "
       ]
      },
      {
       "output_type": "stream",
       "stream": "stdout",
       "text": [
        "7800 "
       ]
      },
      {
       "output_type": "stream",
       "stream": "stdout",
       "text": [
        "7860 "
       ]
      },
      {
       "output_type": "stream",
       "stream": "stdout",
       "text": [
        "7920 "
       ]
      },
      {
       "output_type": "stream",
       "stream": "stdout",
       "text": [
        "7980 "
       ]
      },
      {
       "output_type": "stream",
       "stream": "stdout",
       "text": [
        "8040 "
       ]
      },
      {
       "output_type": "stream",
       "stream": "stdout",
       "text": [
        "8100 "
       ]
      },
      {
       "output_type": "stream",
       "stream": "stdout",
       "text": [
        "8160 "
       ]
      },
      {
       "output_type": "stream",
       "stream": "stdout",
       "text": [
        "8220 "
       ]
      },
      {
       "output_type": "stream",
       "stream": "stdout",
       "text": [
        "8280 "
       ]
      },
      {
       "output_type": "stream",
       "stream": "stdout",
       "text": [
        "8340 "
       ]
      },
      {
       "output_type": "stream",
       "stream": "stdout",
       "text": [
        "8400 "
       ]
      },
      {
       "output_type": "stream",
       "stream": "stdout",
       "text": [
        "8460 "
       ]
      },
      {
       "output_type": "stream",
       "stream": "stdout",
       "text": [
        "8520 "
       ]
      },
      {
       "output_type": "stream",
       "stream": "stdout",
       "text": [
        "8580 "
       ]
      },
      {
       "output_type": "stream",
       "stream": "stdout",
       "text": [
        "8640 "
       ]
      },
      {
       "output_type": "stream",
       "stream": "stdout",
       "text": [
        "8700 "
       ]
      },
      {
       "output_type": "stream",
       "stream": "stdout",
       "text": [
        "8760 "
       ]
      },
      {
       "output_type": "stream",
       "stream": "stdout",
       "text": [
        "8820 "
       ]
      },
      {
       "output_type": "stream",
       "stream": "stdout",
       "text": [
        "8880 "
       ]
      },
      {
       "output_type": "stream",
       "stream": "stdout",
       "text": [
        "8940 "
       ]
      },
      {
       "output_type": "stream",
       "stream": "stdout",
       "text": [
        "9000 "
       ]
      },
      {
       "output_type": "stream",
       "stream": "stdout",
       "text": [
        "9060 "
       ]
      },
      {
       "output_type": "stream",
       "stream": "stdout",
       "text": [
        "9120 "
       ]
      },
      {
       "output_type": "stream",
       "stream": "stdout",
       "text": [
        "9180 "
       ]
      },
      {
       "output_type": "stream",
       "stream": "stdout",
       "text": [
        "9240 "
       ]
      },
      {
       "output_type": "stream",
       "stream": "stdout",
       "text": [
        "9300 "
       ]
      },
      {
       "output_type": "stream",
       "stream": "stdout",
       "text": [
        "9360 "
       ]
      },
      {
       "output_type": "stream",
       "stream": "stdout",
       "text": [
        "9420 "
       ]
      },
      {
       "output_type": "stream",
       "stream": "stdout",
       "text": [
        "9480 "
       ]
      },
      {
       "output_type": "stream",
       "stream": "stdout",
       "text": [
        "9540 "
       ]
      },
      {
       "output_type": "stream",
       "stream": "stdout",
       "text": [
        "9600 "
       ]
      },
      {
       "output_type": "stream",
       "stream": "stdout",
       "text": [
        "9660 "
       ]
      },
      {
       "output_type": "stream",
       "stream": "stdout",
       "text": [
        "9720 "
       ]
      },
      {
       "output_type": "stream",
       "stream": "stdout",
       "text": [
        "9780 "
       ]
      },
      {
       "output_type": "stream",
       "stream": "stdout",
       "text": [
        "9840 "
       ]
      },
      {
       "output_type": "stream",
       "stream": "stdout",
       "text": [
        "9900 "
       ]
      },
      {
       "output_type": "stream",
       "stream": "stdout",
       "text": [
        "9960 "
       ]
      },
      {
       "output_type": "stream",
       "stream": "stdout",
       "text": [
        "10020 "
       ]
      },
      {
       "output_type": "stream",
       "stream": "stdout",
       "text": [
        "10080 "
       ]
      },
      {
       "output_type": "stream",
       "stream": "stdout",
       "text": [
        "10140 "
       ]
      },
      {
       "output_type": "stream",
       "stream": "stdout",
       "text": [
        "10200 "
       ]
      },
      {
       "output_type": "stream",
       "stream": "stdout",
       "text": [
        "10260 "
       ]
      },
      {
       "output_type": "stream",
       "stream": "stdout",
       "text": [
        "10320 "
       ]
      },
      {
       "output_type": "stream",
       "stream": "stdout",
       "text": [
        "10380 "
       ]
      },
      {
       "output_type": "stream",
       "stream": "stdout",
       "text": [
        "10440 "
       ]
      },
      {
       "output_type": "stream",
       "stream": "stdout",
       "text": [
        "10500 "
       ]
      },
      {
       "output_type": "stream",
       "stream": "stdout",
       "text": [
        "10560 "
       ]
      },
      {
       "output_type": "stream",
       "stream": "stdout",
       "text": [
        "10620 "
       ]
      },
      {
       "output_type": "stream",
       "stream": "stdout",
       "text": [
        "10680 "
       ]
      },
      {
       "output_type": "stream",
       "stream": "stdout",
       "text": [
        "10740 "
       ]
      },
      {
       "output_type": "stream",
       "stream": "stdout",
       "text": [
        "10800 "
       ]
      },
      {
       "output_type": "stream",
       "stream": "stdout",
       "text": [
        "10860 "
       ]
      },
      {
       "output_type": "stream",
       "stream": "stdout",
       "text": [
        "10920 "
       ]
      },
      {
       "output_type": "stream",
       "stream": "stdout",
       "text": [
        "10980 "
       ]
      },
      {
       "output_type": "stream",
       "stream": "stdout",
       "text": [
        "11040 "
       ]
      },
      {
       "output_type": "stream",
       "stream": "stdout",
       "text": [
        "11100 "
       ]
      },
      {
       "output_type": "stream",
       "stream": "stdout",
       "text": [
        "11160 "
       ]
      },
      {
       "output_type": "stream",
       "stream": "stdout",
       "text": [
        "11220 "
       ]
      },
      {
       "output_type": "stream",
       "stream": "stdout",
       "text": [
        "11280 "
       ]
      },
      {
       "output_type": "stream",
       "stream": "stdout",
       "text": [
        "11340 "
       ]
      },
      {
       "output_type": "stream",
       "stream": "stdout",
       "text": [
        "11400 "
       ]
      },
      {
       "output_type": "stream",
       "stream": "stdout",
       "text": [
        "11460 "
       ]
      },
      {
       "output_type": "stream",
       "stream": "stdout",
       "text": [
        "11520 "
       ]
      },
      {
       "output_type": "stream",
       "stream": "stdout",
       "text": [
        "11580 "
       ]
      },
      {
       "output_type": "stream",
       "stream": "stdout",
       "text": [
        "11640 "
       ]
      },
      {
       "output_type": "stream",
       "stream": "stdout",
       "text": [
        "11700 "
       ]
      },
      {
       "output_type": "stream",
       "stream": "stdout",
       "text": [
        "11760 "
       ]
      },
      {
       "output_type": "stream",
       "stream": "stdout",
       "text": [
        "11820 "
       ]
      },
      {
       "output_type": "stream",
       "stream": "stdout",
       "text": [
        "11880 "
       ]
      },
      {
       "output_type": "stream",
       "stream": "stdout",
       "text": [
        "11940 "
       ]
      },
      {
       "output_type": "stream",
       "stream": "stdout",
       "text": [
        "12000 "
       ]
      },
      {
       "output_type": "stream",
       "stream": "stdout",
       "text": [
        "12060 "
       ]
      },
      {
       "output_type": "stream",
       "stream": "stdout",
       "text": [
        "12120 "
       ]
      },
      {
       "output_type": "stream",
       "stream": "stdout",
       "text": [
        "12180 "
       ]
      },
      {
       "output_type": "stream",
       "stream": "stdout",
       "text": [
        "12240 "
       ]
      },
      {
       "output_type": "stream",
       "stream": "stdout",
       "text": [
        "12300 "
       ]
      },
      {
       "output_type": "stream",
       "stream": "stdout",
       "text": [
        "12360 "
       ]
      },
      {
       "output_type": "stream",
       "stream": "stdout",
       "text": [
        "12420 "
       ]
      },
      {
       "output_type": "stream",
       "stream": "stdout",
       "text": [
        "12480 "
       ]
      },
      {
       "output_type": "stream",
       "stream": "stdout",
       "text": [
        "12540 "
       ]
      },
      {
       "output_type": "stream",
       "stream": "stdout",
       "text": [
        "12600 "
       ]
      },
      {
       "output_type": "stream",
       "stream": "stdout",
       "text": [
        "12660 "
       ]
      },
      {
       "output_type": "stream",
       "stream": "stdout",
       "text": [
        "12720 "
       ]
      },
      {
       "output_type": "stream",
       "stream": "stdout",
       "text": [
        "12780 "
       ]
      },
      {
       "output_type": "stream",
       "stream": "stdout",
       "text": [
        "12840 "
       ]
      },
      {
       "output_type": "stream",
       "stream": "stdout",
       "text": [
        "12900 "
       ]
      },
      {
       "output_type": "stream",
       "stream": "stdout",
       "text": [
        "12960 "
       ]
      },
      {
       "output_type": "stream",
       "stream": "stdout",
       "text": [
        "13020 "
       ]
      },
      {
       "output_type": "stream",
       "stream": "stdout",
       "text": [
        "13080 "
       ]
      },
      {
       "output_type": "stream",
       "stream": "stdout",
       "text": [
        "13140 "
       ]
      },
      {
       "output_type": "stream",
       "stream": "stdout",
       "text": [
        "13200 "
       ]
      },
      {
       "output_type": "stream",
       "stream": "stdout",
       "text": [
        "13260 "
       ]
      },
      {
       "output_type": "stream",
       "stream": "stdout",
       "text": [
        "13320 "
       ]
      },
      {
       "output_type": "stream",
       "stream": "stdout",
       "text": [
        "13380 "
       ]
      },
      {
       "output_type": "stream",
       "stream": "stdout",
       "text": [
        "13440 "
       ]
      },
      {
       "output_type": "stream",
       "stream": "stdout",
       "text": [
        "13500 "
       ]
      },
      {
       "output_type": "stream",
       "stream": "stdout",
       "text": [
        "13560 "
       ]
      },
      {
       "output_type": "stream",
       "stream": "stdout",
       "text": [
        "13620 "
       ]
      },
      {
       "output_type": "stream",
       "stream": "stdout",
       "text": [
        "13680 "
       ]
      },
      {
       "output_type": "stream",
       "stream": "stdout",
       "text": [
        "13740 "
       ]
      },
      {
       "output_type": "stream",
       "stream": "stdout",
       "text": [
        "13800 "
       ]
      },
      {
       "output_type": "stream",
       "stream": "stdout",
       "text": [
        "13860 "
       ]
      },
      {
       "output_type": "stream",
       "stream": "stdout",
       "text": [
        "13920 "
       ]
      },
      {
       "output_type": "stream",
       "stream": "stdout",
       "text": [
        "13980 "
       ]
      },
      {
       "output_type": "stream",
       "stream": "stdout",
       "text": [
        "14040 "
       ]
      },
      {
       "output_type": "stream",
       "stream": "stdout",
       "text": [
        "14100 "
       ]
      },
      {
       "output_type": "stream",
       "stream": "stdout",
       "text": [
        "14160 "
       ]
      },
      {
       "output_type": "stream",
       "stream": "stdout",
       "text": [
        "14220 "
       ]
      },
      {
       "output_type": "stream",
       "stream": "stdout",
       "text": [
        "14280 "
       ]
      },
      {
       "output_type": "stream",
       "stream": "stdout",
       "text": [
        "14340 "
       ]
      },
      {
       "output_type": "stream",
       "stream": "stdout",
       "text": [
        "14400 "
       ]
      },
      {
       "output_type": "stream",
       "stream": "stdout",
       "text": [
        "14460 "
       ]
      },
      {
       "output_type": "stream",
       "stream": "stdout",
       "text": [
        "14520 "
       ]
      },
      {
       "output_type": "stream",
       "stream": "stdout",
       "text": [
        "14580 "
       ]
      },
      {
       "output_type": "stream",
       "stream": "stdout",
       "text": [
        "14640 "
       ]
      },
      {
       "output_type": "stream",
       "stream": "stdout",
       "text": [
        "14700 "
       ]
      },
      {
       "output_type": "stream",
       "stream": "stdout",
       "text": [
        "14760 "
       ]
      },
      {
       "output_type": "stream",
       "stream": "stdout",
       "text": [
        "14820 "
       ]
      },
      {
       "output_type": "stream",
       "stream": "stdout",
       "text": [
        "14880 "
       ]
      },
      {
       "output_type": "stream",
       "stream": "stdout",
       "text": [
        "14940 "
       ]
      },
      {
       "output_type": "stream",
       "stream": "stdout",
       "text": [
        "15000 "
       ]
      },
      {
       "output_type": "stream",
       "stream": "stdout",
       "text": [
        "15060 "
       ]
      },
      {
       "output_type": "stream",
       "stream": "stdout",
       "text": [
        "15120 "
       ]
      },
      {
       "output_type": "stream",
       "stream": "stdout",
       "text": [
        "15180 "
       ]
      },
      {
       "output_type": "stream",
       "stream": "stdout",
       "text": [
        "15240 "
       ]
      },
      {
       "output_type": "stream",
       "stream": "stdout",
       "text": [
        "15300 "
       ]
      },
      {
       "output_type": "stream",
       "stream": "stdout",
       "text": [
        "15360 "
       ]
      },
      {
       "output_type": "stream",
       "stream": "stdout",
       "text": [
        "15420 "
       ]
      },
      {
       "output_type": "stream",
       "stream": "stdout",
       "text": [
        "15480 "
       ]
      },
      {
       "output_type": "stream",
       "stream": "stdout",
       "text": [
        "15540 "
       ]
      },
      {
       "output_type": "stream",
       "stream": "stdout",
       "text": [
        "15600 "
       ]
      },
      {
       "output_type": "stream",
       "stream": "stdout",
       "text": [
        "15660 "
       ]
      },
      {
       "output_type": "stream",
       "stream": "stdout",
       "text": [
        "15720 "
       ]
      },
      {
       "output_type": "stream",
       "stream": "stdout",
       "text": [
        "15780 "
       ]
      },
      {
       "output_type": "stream",
       "stream": "stdout",
       "text": [
        "15840 "
       ]
      },
      {
       "output_type": "stream",
       "stream": "stdout",
       "text": [
        "15900 "
       ]
      },
      {
       "output_type": "stream",
       "stream": "stdout",
       "text": [
        "15960 "
       ]
      },
      {
       "output_type": "stream",
       "stream": "stdout",
       "text": [
        "16020 "
       ]
      },
      {
       "output_type": "stream",
       "stream": "stdout",
       "text": [
        "16080 "
       ]
      },
      {
       "output_type": "stream",
       "stream": "stdout",
       "text": [
        "16140 "
       ]
      },
      {
       "output_type": "stream",
       "stream": "stdout",
       "text": [
        "16200 "
       ]
      },
      {
       "output_type": "stream",
       "stream": "stdout",
       "text": [
        "16260 "
       ]
      },
      {
       "output_type": "stream",
       "stream": "stdout",
       "text": [
        "16320 "
       ]
      },
      {
       "output_type": "stream",
       "stream": "stdout",
       "text": [
        "16380 "
       ]
      },
      {
       "output_type": "stream",
       "stream": "stdout",
       "text": [
        "16440 "
       ]
      },
      {
       "output_type": "stream",
       "stream": "stdout",
       "text": [
        "16500 "
       ]
      },
      {
       "output_type": "stream",
       "stream": "stdout",
       "text": [
        "16560 "
       ]
      },
      {
       "output_type": "stream",
       "stream": "stdout",
       "text": [
        "16620 "
       ]
      },
      {
       "output_type": "stream",
       "stream": "stdout",
       "text": [
        "16680 "
       ]
      },
      {
       "output_type": "stream",
       "stream": "stdout",
       "text": [
        "16740 "
       ]
      },
      {
       "output_type": "stream",
       "stream": "stdout",
       "text": [
        "16800 "
       ]
      },
      {
       "output_type": "stream",
       "stream": "stdout",
       "text": [
        "16860 "
       ]
      },
      {
       "output_type": "stream",
       "stream": "stdout",
       "text": [
        "16920 "
       ]
      },
      {
       "output_type": "stream",
       "stream": "stdout",
       "text": [
        "16980 "
       ]
      },
      {
       "output_type": "stream",
       "stream": "stdout",
       "text": [
        "17040 "
       ]
      },
      {
       "output_type": "stream",
       "stream": "stdout",
       "text": [
        "17100 "
       ]
      },
      {
       "output_type": "stream",
       "stream": "stdout",
       "text": [
        "17160 "
       ]
      },
      {
       "output_type": "stream",
       "stream": "stdout",
       "text": [
        "17220 "
       ]
      },
      {
       "output_type": "stream",
       "stream": "stdout",
       "text": [
        "17280 "
       ]
      },
      {
       "output_type": "stream",
       "stream": "stdout",
       "text": [
        "17340 "
       ]
      },
      {
       "output_type": "stream",
       "stream": "stdout",
       "text": [
        "17400 "
       ]
      },
      {
       "output_type": "stream",
       "stream": "stdout",
       "text": [
        "17460 "
       ]
      },
      {
       "output_type": "stream",
       "stream": "stdout",
       "text": [
        "17520 "
       ]
      },
      {
       "output_type": "stream",
       "stream": "stdout",
       "text": [
        "17580 "
       ]
      },
      {
       "output_type": "stream",
       "stream": "stdout",
       "text": [
        "17640 "
       ]
      },
      {
       "output_type": "stream",
       "stream": "stdout",
       "text": [
        "17700 "
       ]
      },
      {
       "output_type": "stream",
       "stream": "stdout",
       "text": [
        "17760 "
       ]
      },
      {
       "output_type": "stream",
       "stream": "stdout",
       "text": [
        "17820 "
       ]
      },
      {
       "output_type": "stream",
       "stream": "stdout",
       "text": [
        "17880 "
       ]
      },
      {
       "output_type": "stream",
       "stream": "stdout",
       "text": [
        "17940 "
       ]
      },
      {
       "output_type": "stream",
       "stream": "stdout",
       "text": [
        "18000 "
       ]
      },
      {
       "output_type": "stream",
       "stream": "stdout",
       "text": [
        "18060 "
       ]
      },
      {
       "output_type": "stream",
       "stream": "stdout",
       "text": [
        "18120 "
       ]
      },
      {
       "output_type": "stream",
       "stream": "stdout",
       "text": [
        "18180 "
       ]
      },
      {
       "output_type": "stream",
       "stream": "stdout",
       "text": [
        "18240 "
       ]
      },
      {
       "output_type": "stream",
       "stream": "stdout",
       "text": [
        "18300 "
       ]
      },
      {
       "output_type": "stream",
       "stream": "stdout",
       "text": [
        "18360 "
       ]
      },
      {
       "output_type": "stream",
       "stream": "stdout",
       "text": [
        "18420 "
       ]
      },
      {
       "output_type": "stream",
       "stream": "stdout",
       "text": [
        "18480 "
       ]
      },
      {
       "output_type": "stream",
       "stream": "stdout",
       "text": [
        "18540 "
       ]
      },
      {
       "output_type": "stream",
       "stream": "stdout",
       "text": [
        "18600 "
       ]
      },
      {
       "output_type": "stream",
       "stream": "stdout",
       "text": [
        "18660 "
       ]
      },
      {
       "output_type": "stream",
       "stream": "stdout",
       "text": [
        "18720 "
       ]
      },
      {
       "output_type": "stream",
       "stream": "stdout",
       "text": [
        "18780 "
       ]
      },
      {
       "output_type": "stream",
       "stream": "stdout",
       "text": [
        "18840 "
       ]
      },
      {
       "output_type": "stream",
       "stream": "stdout",
       "text": [
        "18900 "
       ]
      },
      {
       "output_type": "stream",
       "stream": "stdout",
       "text": [
        "18960 "
       ]
      },
      {
       "output_type": "stream",
       "stream": "stdout",
       "text": [
        "19020 "
       ]
      },
      {
       "output_type": "stream",
       "stream": "stdout",
       "text": [
        "19080 "
       ]
      },
      {
       "output_type": "stream",
       "stream": "stdout",
       "text": [
        "19140 "
       ]
      },
      {
       "output_type": "stream",
       "stream": "stdout",
       "text": [
        "19200 "
       ]
      },
      {
       "output_type": "stream",
       "stream": "stdout",
       "text": [
        "19260 "
       ]
      },
      {
       "output_type": "stream",
       "stream": "stdout",
       "text": [
        "19320 "
       ]
      },
      {
       "output_type": "stream",
       "stream": "stdout",
       "text": [
        "19380 "
       ]
      },
      {
       "output_type": "stream",
       "stream": "stdout",
       "text": [
        "19440 "
       ]
      },
      {
       "output_type": "stream",
       "stream": "stdout",
       "text": [
        "19500 "
       ]
      },
      {
       "output_type": "stream",
       "stream": "stdout",
       "text": [
        "19560 "
       ]
      },
      {
       "output_type": "stream",
       "stream": "stdout",
       "text": [
        "19620 "
       ]
      },
      {
       "output_type": "stream",
       "stream": "stdout",
       "text": [
        "19680 "
       ]
      },
      {
       "output_type": "stream",
       "stream": "stdout",
       "text": [
        "19740 "
       ]
      },
      {
       "output_type": "stream",
       "stream": "stdout",
       "text": [
        "19800 "
       ]
      },
      {
       "output_type": "stream",
       "stream": "stdout",
       "text": [
        "19860 "
       ]
      },
      {
       "output_type": "stream",
       "stream": "stdout",
       "text": [
        "19920 "
       ]
      },
      {
       "output_type": "stream",
       "stream": "stdout",
       "text": [
        "19980 "
       ]
      },
      {
       "output_type": "stream",
       "stream": "stdout",
       "text": [
        "20040 "
       ]
      },
      {
       "output_type": "stream",
       "stream": "stdout",
       "text": [
        "20100 "
       ]
      },
      {
       "output_type": "stream",
       "stream": "stdout",
       "text": [
        "20160 "
       ]
      },
      {
       "output_type": "stream",
       "stream": "stdout",
       "text": [
        "20220 "
       ]
      },
      {
       "output_type": "stream",
       "stream": "stdout",
       "text": [
        "20280 "
       ]
      },
      {
       "output_type": "stream",
       "stream": "stdout",
       "text": [
        "20340 "
       ]
      },
      {
       "output_type": "stream",
       "stream": "stdout",
       "text": [
        "20400 "
       ]
      },
      {
       "output_type": "stream",
       "stream": "stdout",
       "text": [
        "20460 "
       ]
      },
      {
       "output_type": "stream",
       "stream": "stdout",
       "text": [
        "20520 "
       ]
      },
      {
       "output_type": "stream",
       "stream": "stdout",
       "text": [
        "20580 "
       ]
      },
      {
       "output_type": "stream",
       "stream": "stdout",
       "text": [
        "20640 "
       ]
      },
      {
       "output_type": "stream",
       "stream": "stdout",
       "text": [
        "20700 "
       ]
      },
      {
       "output_type": "stream",
       "stream": "stdout",
       "text": [
        "20760 "
       ]
      },
      {
       "output_type": "stream",
       "stream": "stdout",
       "text": [
        "20820 "
       ]
      },
      {
       "output_type": "stream",
       "stream": "stdout",
       "text": [
        "20880 "
       ]
      },
      {
       "output_type": "stream",
       "stream": "stdout",
       "text": [
        "20940 "
       ]
      },
      {
       "output_type": "stream",
       "stream": "stdout",
       "text": [
        "21000 "
       ]
      },
      {
       "output_type": "stream",
       "stream": "stdout",
       "text": [
        "21060 "
       ]
      },
      {
       "output_type": "stream",
       "stream": "stdout",
       "text": [
        "21120 "
       ]
      },
      {
       "output_type": "stream",
       "stream": "stdout",
       "text": [
        "21180 "
       ]
      },
      {
       "output_type": "stream",
       "stream": "stdout",
       "text": [
        "21240 "
       ]
      },
      {
       "output_type": "stream",
       "stream": "stdout",
       "text": [
        "21300 "
       ]
      },
      {
       "output_type": "stream",
       "stream": "stdout",
       "text": [
        "21360 "
       ]
      },
      {
       "output_type": "stream",
       "stream": "stdout",
       "text": [
        "21420 "
       ]
      },
      {
       "output_type": "stream",
       "stream": "stdout",
       "text": [
        "21480 "
       ]
      },
      {
       "output_type": "stream",
       "stream": "stdout",
       "text": [
        "21540 "
       ]
      },
      {
       "output_type": "stream",
       "stream": "stdout",
       "text": [
        "21600 "
       ]
      },
      {
       "output_type": "stream",
       "stream": "stdout",
       "text": [
        "21660 "
       ]
      },
      {
       "output_type": "stream",
       "stream": "stdout",
       "text": [
        "21720 "
       ]
      },
      {
       "output_type": "stream",
       "stream": "stdout",
       "text": [
        "21780 "
       ]
      },
      {
       "output_type": "stream",
       "stream": "stdout",
       "text": [
        "21840 "
       ]
      },
      {
       "output_type": "stream",
       "stream": "stdout",
       "text": [
        "21900 "
       ]
      },
      {
       "output_type": "stream",
       "stream": "stdout",
       "text": [
        "21960 "
       ]
      },
      {
       "output_type": "stream",
       "stream": "stdout",
       "text": [
        "22020 "
       ]
      },
      {
       "output_type": "stream",
       "stream": "stdout",
       "text": [
        "22080 "
       ]
      },
      {
       "output_type": "stream",
       "stream": "stdout",
       "text": [
        "22140 "
       ]
      },
      {
       "output_type": "stream",
       "stream": "stdout",
       "text": [
        "22200 "
       ]
      },
      {
       "output_type": "stream",
       "stream": "stdout",
       "text": [
        "22260 "
       ]
      },
      {
       "output_type": "stream",
       "stream": "stdout",
       "text": [
        "22320 "
       ]
      },
      {
       "output_type": "stream",
       "stream": "stdout",
       "text": [
        "22380 "
       ]
      },
      {
       "output_type": "stream",
       "stream": "stdout",
       "text": [
        "22440 "
       ]
      },
      {
       "output_type": "stream",
       "stream": "stdout",
       "text": [
        "22500 "
       ]
      },
      {
       "output_type": "stream",
       "stream": "stdout",
       "text": [
        "22560 "
       ]
      },
      {
       "output_type": "stream",
       "stream": "stdout",
       "text": [
        "22620 "
       ]
      },
      {
       "output_type": "stream",
       "stream": "stdout",
       "text": [
        "22680 "
       ]
      },
      {
       "output_type": "stream",
       "stream": "stdout",
       "text": [
        "22740 "
       ]
      },
      {
       "output_type": "stream",
       "stream": "stdout",
       "text": [
        "22800 "
       ]
      },
      {
       "output_type": "stream",
       "stream": "stdout",
       "text": [
        "22860 "
       ]
      },
      {
       "output_type": "stream",
       "stream": "stdout",
       "text": [
        "22920 "
       ]
      },
      {
       "output_type": "stream",
       "stream": "stdout",
       "text": [
        "22980 "
       ]
      },
      {
       "output_type": "stream",
       "stream": "stdout",
       "text": [
        "23040 "
       ]
      },
      {
       "output_type": "stream",
       "stream": "stdout",
       "text": [
        "23100 "
       ]
      },
      {
       "output_type": "stream",
       "stream": "stdout",
       "text": [
        "23160 "
       ]
      },
      {
       "output_type": "stream",
       "stream": "stdout",
       "text": [
        "23220 "
       ]
      },
      {
       "output_type": "stream",
       "stream": "stdout",
       "text": [
        "23280 "
       ]
      },
      {
       "output_type": "stream",
       "stream": "stdout",
       "text": [
        "23340 "
       ]
      },
      {
       "output_type": "stream",
       "stream": "stdout",
       "text": [
        "23400 "
       ]
      },
      {
       "output_type": "stream",
       "stream": "stdout",
       "text": [
        "23460 "
       ]
      },
      {
       "output_type": "stream",
       "stream": "stdout",
       "text": [
        "23520 "
       ]
      },
      {
       "output_type": "stream",
       "stream": "stdout",
       "text": [
        "23580 "
       ]
      },
      {
       "output_type": "stream",
       "stream": "stdout",
       "text": [
        "23640 "
       ]
      },
      {
       "output_type": "stream",
       "stream": "stdout",
       "text": [
        "23700 "
       ]
      },
      {
       "output_type": "stream",
       "stream": "stdout",
       "text": [
        "23760 "
       ]
      },
      {
       "output_type": "stream",
       "stream": "stdout",
       "text": [
        "23820 "
       ]
      },
      {
       "output_type": "stream",
       "stream": "stdout",
       "text": [
        "23880 "
       ]
      },
      {
       "output_type": "stream",
       "stream": "stdout",
       "text": [
        "23940 "
       ]
      },
      {
       "output_type": "stream",
       "stream": "stdout",
       "text": [
        "24000 "
       ]
      },
      {
       "output_type": "stream",
       "stream": "stdout",
       "text": [
        "24060 "
       ]
      },
      {
       "output_type": "stream",
       "stream": "stdout",
       "text": [
        "24120 "
       ]
      },
      {
       "output_type": "stream",
       "stream": "stdout",
       "text": [
        "24180 "
       ]
      },
      {
       "output_type": "stream",
       "stream": "stdout",
       "text": [
        "24240 "
       ]
      },
      {
       "output_type": "stream",
       "stream": "stdout",
       "text": [
        "24300 "
       ]
      },
      {
       "output_type": "stream",
       "stream": "stdout",
       "text": [
        "24360 "
       ]
      },
      {
       "output_type": "stream",
       "stream": "stdout",
       "text": [
        "24420 "
       ]
      },
      {
       "output_type": "stream",
       "stream": "stdout",
       "text": [
        "24480 "
       ]
      },
      {
       "output_type": "stream",
       "stream": "stdout",
       "text": [
        "24540 "
       ]
      },
      {
       "output_type": "stream",
       "stream": "stdout",
       "text": [
        "24600 "
       ]
      },
      {
       "output_type": "stream",
       "stream": "stdout",
       "text": [
        "24660 "
       ]
      },
      {
       "output_type": "stream",
       "stream": "stdout",
       "text": [
        "24720 "
       ]
      },
      {
       "output_type": "stream",
       "stream": "stdout",
       "text": [
        "24780 "
       ]
      },
      {
       "output_type": "stream",
       "stream": "stdout",
       "text": [
        "24840 "
       ]
      },
      {
       "output_type": "stream",
       "stream": "stdout",
       "text": [
        "24900 "
       ]
      },
      {
       "output_type": "stream",
       "stream": "stdout",
       "text": [
        "24960 "
       ]
      },
      {
       "output_type": "stream",
       "stream": "stdout",
       "text": [
        "25020 "
       ]
      },
      {
       "output_type": "stream",
       "stream": "stdout",
       "text": [
        "25080 "
       ]
      },
      {
       "output_type": "stream",
       "stream": "stdout",
       "text": [
        "25140 "
       ]
      },
      {
       "output_type": "stream",
       "stream": "stdout",
       "text": [
        "25200 "
       ]
      },
      {
       "output_type": "stream",
       "stream": "stdout",
       "text": [
        "25260 "
       ]
      },
      {
       "output_type": "stream",
       "stream": "stdout",
       "text": [
        "25320 "
       ]
      },
      {
       "output_type": "stream",
       "stream": "stdout",
       "text": [
        "25380 "
       ]
      },
      {
       "output_type": "stream",
       "stream": "stdout",
       "text": [
        "25440 "
       ]
      },
      {
       "output_type": "stream",
       "stream": "stdout",
       "text": [
        "25500 "
       ]
      },
      {
       "output_type": "stream",
       "stream": "stdout",
       "text": [
        "25560 "
       ]
      },
      {
       "output_type": "stream",
       "stream": "stdout",
       "text": [
        "25620 "
       ]
      },
      {
       "output_type": "stream",
       "stream": "stdout",
       "text": [
        "25680 "
       ]
      },
      {
       "output_type": "stream",
       "stream": "stdout",
       "text": [
        "25740 "
       ]
      },
      {
       "output_type": "stream",
       "stream": "stdout",
       "text": [
        "25800 "
       ]
      },
      {
       "output_type": "stream",
       "stream": "stdout",
       "text": [
        "25860 "
       ]
      },
      {
       "output_type": "stream",
       "stream": "stdout",
       "text": [
        "25920 "
       ]
      },
      {
       "output_type": "stream",
       "stream": "stdout",
       "text": [
        "25980 "
       ]
      },
      {
       "output_type": "stream",
       "stream": "stdout",
       "text": [
        "26040 "
       ]
      },
      {
       "output_type": "stream",
       "stream": "stdout",
       "text": [
        "26100 "
       ]
      },
      {
       "output_type": "stream",
       "stream": "stdout",
       "text": [
        "26160 "
       ]
      },
      {
       "output_type": "stream",
       "stream": "stdout",
       "text": [
        "26220 "
       ]
      },
      {
       "output_type": "stream",
       "stream": "stdout",
       "text": [
        "26280 "
       ]
      },
      {
       "output_type": "stream",
       "stream": "stdout",
       "text": [
        "26340 "
       ]
      },
      {
       "output_type": "stream",
       "stream": "stdout",
       "text": [
        "26400 "
       ]
      },
      {
       "output_type": "stream",
       "stream": "stdout",
       "text": [
        "26460 "
       ]
      },
      {
       "output_type": "stream",
       "stream": "stdout",
       "text": [
        "26520 "
       ]
      },
      {
       "output_type": "stream",
       "stream": "stdout",
       "text": [
        "26580 "
       ]
      },
      {
       "output_type": "stream",
       "stream": "stdout",
       "text": [
        "26640 "
       ]
      },
      {
       "output_type": "stream",
       "stream": "stdout",
       "text": [
        "26700 "
       ]
      },
      {
       "output_type": "stream",
       "stream": "stdout",
       "text": [
        "26760 "
       ]
      },
      {
       "output_type": "stream",
       "stream": "stdout",
       "text": [
        "26820 "
       ]
      },
      {
       "output_type": "stream",
       "stream": "stdout",
       "text": [
        "26880 "
       ]
      },
      {
       "output_type": "stream",
       "stream": "stdout",
       "text": [
        "26940 "
       ]
      },
      {
       "output_type": "stream",
       "stream": "stdout",
       "text": [
        "27000 "
       ]
      },
      {
       "output_type": "stream",
       "stream": "stdout",
       "text": [
        "27060 "
       ]
      },
      {
       "output_type": "stream",
       "stream": "stdout",
       "text": [
        "27120 "
       ]
      },
      {
       "output_type": "stream",
       "stream": "stdout",
       "text": [
        "27180 "
       ]
      },
      {
       "output_type": "stream",
       "stream": "stdout",
       "text": [
        "27240 "
       ]
      },
      {
       "output_type": "stream",
       "stream": "stdout",
       "text": [
        "27300 "
       ]
      },
      {
       "output_type": "stream",
       "stream": "stdout",
       "text": [
        "27360 "
       ]
      },
      {
       "output_type": "stream",
       "stream": "stdout",
       "text": [
        "27420 "
       ]
      },
      {
       "output_type": "stream",
       "stream": "stdout",
       "text": [
        "27480 "
       ]
      },
      {
       "output_type": "stream",
       "stream": "stdout",
       "text": [
        "27540 "
       ]
      },
      {
       "output_type": "stream",
       "stream": "stdout",
       "text": [
        "27600 "
       ]
      },
      {
       "output_type": "stream",
       "stream": "stdout",
       "text": [
        "27660 "
       ]
      },
      {
       "output_type": "stream",
       "stream": "stdout",
       "text": [
        "27720 "
       ]
      },
      {
       "output_type": "stream",
       "stream": "stdout",
       "text": [
        "27780 "
       ]
      },
      {
       "output_type": "stream",
       "stream": "stdout",
       "text": [
        "27840 "
       ]
      },
      {
       "output_type": "stream",
       "stream": "stdout",
       "text": [
        "27900 "
       ]
      },
      {
       "output_type": "stream",
       "stream": "stdout",
       "text": [
        "27960 "
       ]
      },
      {
       "output_type": "stream",
       "stream": "stdout",
       "text": [
        "28020 "
       ]
      },
      {
       "output_type": "stream",
       "stream": "stdout",
       "text": [
        "28080 "
       ]
      },
      {
       "output_type": "stream",
       "stream": "stdout",
       "text": [
        "28140 "
       ]
      },
      {
       "output_type": "stream",
       "stream": "stdout",
       "text": [
        "28200 "
       ]
      },
      {
       "output_type": "stream",
       "stream": "stdout",
       "text": [
        "28260 "
       ]
      },
      {
       "output_type": "stream",
       "stream": "stdout",
       "text": [
        "28320 "
       ]
      },
      {
       "output_type": "stream",
       "stream": "stdout",
       "text": [
        "28380 "
       ]
      },
      {
       "output_type": "stream",
       "stream": "stdout",
       "text": [
        "28440 "
       ]
      },
      {
       "output_type": "stream",
       "stream": "stdout",
       "text": [
        "28500 "
       ]
      },
      {
       "output_type": "stream",
       "stream": "stdout",
       "text": [
        "28560 "
       ]
      },
      {
       "output_type": "stream",
       "stream": "stdout",
       "text": [
        "28620 "
       ]
      },
      {
       "output_type": "stream",
       "stream": "stdout",
       "text": [
        "28680 "
       ]
      },
      {
       "output_type": "stream",
       "stream": "stdout",
       "text": [
        "28740 "
       ]
      },
      {
       "output_type": "stream",
       "stream": "stdout",
       "text": [
        "28800 "
       ]
      },
      {
       "output_type": "stream",
       "stream": "stdout",
       "text": [
        "28860 "
       ]
      },
      {
       "output_type": "stream",
       "stream": "stdout",
       "text": [
        "28920 "
       ]
      },
      {
       "output_type": "stream",
       "stream": "stdout",
       "text": [
        "28980 "
       ]
      },
      {
       "output_type": "stream",
       "stream": "stdout",
       "text": [
        "29040 "
       ]
      },
      {
       "output_type": "stream",
       "stream": "stdout",
       "text": [
        "29100 "
       ]
      },
      {
       "output_type": "stream",
       "stream": "stdout",
       "text": [
        "29160 "
       ]
      },
      {
       "output_type": "stream",
       "stream": "stdout",
       "text": [
        "29220 "
       ]
      },
      {
       "output_type": "stream",
       "stream": "stdout",
       "text": [
        "29280 "
       ]
      },
      {
       "output_type": "stream",
       "stream": "stdout",
       "text": [
        "29340 "
       ]
      },
      {
       "output_type": "stream",
       "stream": "stdout",
       "text": [
        "29400 "
       ]
      },
      {
       "output_type": "stream",
       "stream": "stdout",
       "text": [
        "29460 "
       ]
      },
      {
       "output_type": "stream",
       "stream": "stdout",
       "text": [
        "29520 "
       ]
      },
      {
       "output_type": "stream",
       "stream": "stdout",
       "text": [
        "29580 "
       ]
      },
      {
       "output_type": "stream",
       "stream": "stdout",
       "text": [
        "29640 "
       ]
      },
      {
       "output_type": "stream",
       "stream": "stdout",
       "text": [
        "29700 "
       ]
      },
      {
       "output_type": "stream",
       "stream": "stdout",
       "text": [
        "29760 "
       ]
      },
      {
       "output_type": "stream",
       "stream": "stdout",
       "text": [
        "29820 "
       ]
      },
      {
       "output_type": "stream",
       "stream": "stdout",
       "text": [
        "29880 "
       ]
      },
      {
       "output_type": "stream",
       "stream": "stdout",
       "text": [
        "29940 "
       ]
      },
      {
       "output_type": "stream",
       "stream": "stdout",
       "text": [
        "30000 "
       ]
      },
      {
       "output_type": "stream",
       "stream": "stdout",
       "text": [
        "30060 "
       ]
      },
      {
       "output_type": "stream",
       "stream": "stdout",
       "text": [
        "30120 "
       ]
      },
      {
       "output_type": "stream",
       "stream": "stdout",
       "text": [
        "30180 "
       ]
      },
      {
       "output_type": "stream",
       "stream": "stdout",
       "text": [
        "30240 "
       ]
      },
      {
       "output_type": "stream",
       "stream": "stdout",
       "text": [
        "30300 "
       ]
      },
      {
       "output_type": "stream",
       "stream": "stdout",
       "text": [
        "30360 "
       ]
      },
      {
       "output_type": "stream",
       "stream": "stdout",
       "text": [
        "30420 "
       ]
      },
      {
       "output_type": "stream",
       "stream": "stdout",
       "text": [
        "30480 "
       ]
      },
      {
       "output_type": "stream",
       "stream": "stdout",
       "text": [
        "30540 "
       ]
      },
      {
       "output_type": "stream",
       "stream": "stdout",
       "text": [
        "30600 "
       ]
      },
      {
       "output_type": "stream",
       "stream": "stdout",
       "text": [
        "30660 "
       ]
      },
      {
       "output_type": "stream",
       "stream": "stdout",
       "text": [
        "30720 "
       ]
      },
      {
       "output_type": "stream",
       "stream": "stdout",
       "text": [
        "30780 "
       ]
      },
      {
       "output_type": "stream",
       "stream": "stdout",
       "text": [
        "30840 "
       ]
      },
      {
       "output_type": "stream",
       "stream": "stdout",
       "text": [
        "30900 "
       ]
      },
      {
       "output_type": "stream",
       "stream": "stdout",
       "text": [
        "30960 "
       ]
      },
      {
       "output_type": "stream",
       "stream": "stdout",
       "text": [
        "31020 "
       ]
      },
      {
       "output_type": "stream",
       "stream": "stdout",
       "text": [
        "31080 "
       ]
      },
      {
       "output_type": "stream",
       "stream": "stdout",
       "text": [
        "31140 "
       ]
      },
      {
       "output_type": "stream",
       "stream": "stdout",
       "text": [
        "31200 "
       ]
      },
      {
       "output_type": "stream",
       "stream": "stdout",
       "text": [
        "31260 "
       ]
      },
      {
       "output_type": "stream",
       "stream": "stdout",
       "text": [
        "31320 "
       ]
      },
      {
       "output_type": "stream",
       "stream": "stdout",
       "text": [
        "31380 "
       ]
      },
      {
       "output_type": "stream",
       "stream": "stdout",
       "text": [
        "31440 "
       ]
      },
      {
       "output_type": "stream",
       "stream": "stdout",
       "text": [
        "31500 "
       ]
      },
      {
       "output_type": "stream",
       "stream": "stdout",
       "text": [
        "31560 "
       ]
      },
      {
       "output_type": "stream",
       "stream": "stdout",
       "text": [
        "31620 "
       ]
      },
      {
       "output_type": "stream",
       "stream": "stdout",
       "text": [
        "31680 "
       ]
      },
      {
       "output_type": "stream",
       "stream": "stdout",
       "text": [
        "31740 "
       ]
      },
      {
       "output_type": "stream",
       "stream": "stdout",
       "text": [
        "31800 "
       ]
      },
      {
       "output_type": "stream",
       "stream": "stdout",
       "text": [
        "31860 "
       ]
      },
      {
       "output_type": "stream",
       "stream": "stdout",
       "text": [
        "31920 "
       ]
      },
      {
       "output_type": "stream",
       "stream": "stdout",
       "text": [
        "31980 "
       ]
      },
      {
       "output_type": "stream",
       "stream": "stdout",
       "text": [
        "32040 "
       ]
      },
      {
       "output_type": "stream",
       "stream": "stdout",
       "text": [
        "32100 "
       ]
      },
      {
       "output_type": "stream",
       "stream": "stdout",
       "text": [
        "32160 "
       ]
      },
      {
       "output_type": "stream",
       "stream": "stdout",
       "text": [
        "32220 "
       ]
      },
      {
       "output_type": "stream",
       "stream": "stdout",
       "text": [
        "32280 "
       ]
      },
      {
       "output_type": "stream",
       "stream": "stdout",
       "text": [
        "32340 "
       ]
      },
      {
       "output_type": "stream",
       "stream": "stdout",
       "text": [
        "32400 "
       ]
      },
      {
       "output_type": "stream",
       "stream": "stdout",
       "text": [
        "32460 "
       ]
      },
      {
       "output_type": "stream",
       "stream": "stdout",
       "text": [
        "32520 "
       ]
      },
      {
       "output_type": "stream",
       "stream": "stdout",
       "text": [
        "32580 "
       ]
      },
      {
       "output_type": "stream",
       "stream": "stdout",
       "text": [
        "32640 "
       ]
      },
      {
       "output_type": "stream",
       "stream": "stdout",
       "text": [
        "32700 "
       ]
      },
      {
       "output_type": "stream",
       "stream": "stdout",
       "text": [
        "32760 "
       ]
      },
      {
       "output_type": "stream",
       "stream": "stdout",
       "text": [
        "32820 "
       ]
      },
      {
       "output_type": "stream",
       "stream": "stdout",
       "text": [
        "32880 "
       ]
      },
      {
       "output_type": "stream",
       "stream": "stdout",
       "text": [
        "32940 "
       ]
      },
      {
       "output_type": "stream",
       "stream": "stdout",
       "text": [
        "33000 "
       ]
      },
      {
       "output_type": "stream",
       "stream": "stdout",
       "text": [
        "33060 "
       ]
      },
      {
       "output_type": "stream",
       "stream": "stdout",
       "text": [
        "33120 "
       ]
      },
      {
       "output_type": "stream",
       "stream": "stdout",
       "text": [
        "33180 "
       ]
      },
      {
       "output_type": "stream",
       "stream": "stdout",
       "text": [
        "33240 "
       ]
      },
      {
       "output_type": "stream",
       "stream": "stdout",
       "text": [
        "33300 "
       ]
      },
      {
       "output_type": "stream",
       "stream": "stdout",
       "text": [
        "33360 "
       ]
      },
      {
       "output_type": "stream",
       "stream": "stdout",
       "text": [
        "33420 "
       ]
      },
      {
       "output_type": "stream",
       "stream": "stdout",
       "text": [
        "33480 "
       ]
      },
      {
       "output_type": "stream",
       "stream": "stdout",
       "text": [
        "33540 "
       ]
      },
      {
       "output_type": "stream",
       "stream": "stdout",
       "text": [
        "33600 "
       ]
      },
      {
       "output_type": "stream",
       "stream": "stdout",
       "text": [
        "33660 "
       ]
      },
      {
       "output_type": "stream",
       "stream": "stdout",
       "text": [
        "33720 "
       ]
      },
      {
       "output_type": "stream",
       "stream": "stdout",
       "text": [
        "33780 "
       ]
      },
      {
       "output_type": "stream",
       "stream": "stdout",
       "text": [
        "33840 "
       ]
      },
      {
       "output_type": "stream",
       "stream": "stdout",
       "text": [
        "33900 "
       ]
      },
      {
       "output_type": "stream",
       "stream": "stdout",
       "text": [
        "33960 "
       ]
      },
      {
       "output_type": "stream",
       "stream": "stdout",
       "text": [
        "34020 "
       ]
      },
      {
       "output_type": "stream",
       "stream": "stdout",
       "text": [
        "34080 "
       ]
      },
      {
       "output_type": "stream",
       "stream": "stdout",
       "text": [
        "34140 "
       ]
      },
      {
       "output_type": "stream",
       "stream": "stdout",
       "text": [
        "34200 "
       ]
      },
      {
       "output_type": "stream",
       "stream": "stdout",
       "text": [
        "34260 "
       ]
      },
      {
       "output_type": "stream",
       "stream": "stdout",
       "text": [
        "34320 "
       ]
      },
      {
       "output_type": "stream",
       "stream": "stdout",
       "text": [
        "34380 "
       ]
      },
      {
       "output_type": "stream",
       "stream": "stdout",
       "text": [
        "34440 "
       ]
      },
      {
       "output_type": "stream",
       "stream": "stdout",
       "text": [
        "34500 "
       ]
      },
      {
       "output_type": "stream",
       "stream": "stdout",
       "text": [
        "34560 "
       ]
      },
      {
       "output_type": "stream",
       "stream": "stdout",
       "text": [
        "34620 "
       ]
      },
      {
       "output_type": "stream",
       "stream": "stdout",
       "text": [
        "34680 "
       ]
      },
      {
       "output_type": "stream",
       "stream": "stdout",
       "text": [
        "34740 "
       ]
      },
      {
       "output_type": "stream",
       "stream": "stdout",
       "text": [
        "34800 "
       ]
      },
      {
       "output_type": "stream",
       "stream": "stdout",
       "text": [
        "34860 "
       ]
      },
      {
       "output_type": "stream",
       "stream": "stdout",
       "text": [
        "34920 "
       ]
      },
      {
       "output_type": "stream",
       "stream": "stdout",
       "text": [
        "34980 "
       ]
      },
      {
       "output_type": "stream",
       "stream": "stdout",
       "text": [
        "35040 "
       ]
      },
      {
       "output_type": "stream",
       "stream": "stdout",
       "text": [
        "35100 "
       ]
      },
      {
       "output_type": "stream",
       "stream": "stdout",
       "text": [
        "35160 "
       ]
      },
      {
       "output_type": "stream",
       "stream": "stdout",
       "text": [
        "35220 "
       ]
      },
      {
       "output_type": "stream",
       "stream": "stdout",
       "text": [
        "35280 "
       ]
      },
      {
       "output_type": "stream",
       "stream": "stdout",
       "text": [
        "35340 "
       ]
      },
      {
       "output_type": "stream",
       "stream": "stdout",
       "text": [
        "35400 "
       ]
      },
      {
       "output_type": "stream",
       "stream": "stdout",
       "text": [
        "35460 "
       ]
      },
      {
       "output_type": "stream",
       "stream": "stdout",
       "text": [
        "35520 "
       ]
      },
      {
       "output_type": "stream",
       "stream": "stdout",
       "text": [
        "35580 "
       ]
      },
      {
       "output_type": "stream",
       "stream": "stdout",
       "text": [
        "35640 "
       ]
      },
      {
       "output_type": "stream",
       "stream": "stdout",
       "text": [
        "35700 "
       ]
      },
      {
       "output_type": "stream",
       "stream": "stdout",
       "text": [
        "35760 "
       ]
      },
      {
       "output_type": "stream",
       "stream": "stdout",
       "text": [
        "35820 "
       ]
      },
      {
       "output_type": "stream",
       "stream": "stdout",
       "text": [
        "35880 "
       ]
      },
      {
       "output_type": "stream",
       "stream": "stdout",
       "text": [
        "35940 "
       ]
      },
      {
       "output_type": "stream",
       "stream": "stdout",
       "text": [
        "36000 "
       ]
      },
      {
       "output_type": "stream",
       "stream": "stdout",
       "text": [
        "36060 "
       ]
      },
      {
       "output_type": "stream",
       "stream": "stdout",
       "text": [
        "36120 "
       ]
      },
      {
       "output_type": "stream",
       "stream": "stdout",
       "text": [
        "36180 "
       ]
      },
      {
       "output_type": "stream",
       "stream": "stdout",
       "text": [
        "36240 "
       ]
      },
      {
       "output_type": "stream",
       "stream": "stdout",
       "text": [
        "36300 "
       ]
      },
      {
       "output_type": "stream",
       "stream": "stdout",
       "text": [
        "36360 "
       ]
      },
      {
       "output_type": "stream",
       "stream": "stdout",
       "text": [
        "36420 "
       ]
      },
      {
       "output_type": "stream",
       "stream": "stdout",
       "text": [
        "36480 "
       ]
      },
      {
       "output_type": "stream",
       "stream": "stdout",
       "text": [
        "36540 "
       ]
      },
      {
       "output_type": "stream",
       "stream": "stdout",
       "text": [
        "36600 "
       ]
      },
      {
       "output_type": "stream",
       "stream": "stdout",
       "text": [
        "36660 "
       ]
      },
      {
       "output_type": "stream",
       "stream": "stdout",
       "text": [
        "36720 "
       ]
      },
      {
       "output_type": "stream",
       "stream": "stdout",
       "text": [
        "36780 "
       ]
      },
      {
       "output_type": "stream",
       "stream": "stdout",
       "text": [
        "36840 "
       ]
      },
      {
       "output_type": "stream",
       "stream": "stdout",
       "text": [
        "36900 "
       ]
      },
      {
       "output_type": "stream",
       "stream": "stdout",
       "text": [
        "36960 "
       ]
      },
      {
       "output_type": "stream",
       "stream": "stdout",
       "text": [
        "37020 "
       ]
      },
      {
       "output_type": "stream",
       "stream": "stdout",
       "text": [
        "37080 "
       ]
      },
      {
       "output_type": "stream",
       "stream": "stdout",
       "text": [
        "37140 "
       ]
      },
      {
       "output_type": "stream",
       "stream": "stdout",
       "text": [
        "37200 "
       ]
      },
      {
       "output_type": "stream",
       "stream": "stdout",
       "text": [
        "37260 "
       ]
      },
      {
       "output_type": "stream",
       "stream": "stdout",
       "text": [
        "37320 "
       ]
      },
      {
       "output_type": "stream",
       "stream": "stdout",
       "text": [
        "37380 "
       ]
      },
      {
       "output_type": "stream",
       "stream": "stdout",
       "text": [
        "37440 "
       ]
      },
      {
       "output_type": "stream",
       "stream": "stdout",
       "text": [
        "37500 "
       ]
      },
      {
       "output_type": "stream",
       "stream": "stdout",
       "text": [
        "37560 "
       ]
      },
      {
       "output_type": "stream",
       "stream": "stdout",
       "text": [
        "37620 "
       ]
      },
      {
       "output_type": "stream",
       "stream": "stdout",
       "text": [
        "37680 "
       ]
      },
      {
       "output_type": "stream",
       "stream": "stdout",
       "text": [
        "37740 "
       ]
      },
      {
       "output_type": "stream",
       "stream": "stdout",
       "text": [
        "37800 "
       ]
      },
      {
       "output_type": "stream",
       "stream": "stdout",
       "text": [
        "37860 "
       ]
      },
      {
       "output_type": "stream",
       "stream": "stdout",
       "text": [
        "37920 "
       ]
      },
      {
       "output_type": "stream",
       "stream": "stdout",
       "text": [
        "37980 "
       ]
      },
      {
       "output_type": "stream",
       "stream": "stdout",
       "text": [
        "38040 "
       ]
      },
      {
       "output_type": "stream",
       "stream": "stdout",
       "text": [
        "38100 "
       ]
      },
      {
       "output_type": "stream",
       "stream": "stdout",
       "text": [
        "38160 "
       ]
      },
      {
       "output_type": "stream",
       "stream": "stdout",
       "text": [
        "38220 "
       ]
      },
      {
       "output_type": "stream",
       "stream": "stdout",
       "text": [
        "38280 "
       ]
      },
      {
       "output_type": "stream",
       "stream": "stdout",
       "text": [
        "38340 "
       ]
      },
      {
       "output_type": "stream",
       "stream": "stdout",
       "text": [
        "38400 "
       ]
      },
      {
       "output_type": "stream",
       "stream": "stdout",
       "text": [
        "38460 "
       ]
      },
      {
       "output_type": "stream",
       "stream": "stdout",
       "text": [
        "38520 "
       ]
      },
      {
       "output_type": "stream",
       "stream": "stdout",
       "text": [
        "38580 "
       ]
      },
      {
       "output_type": "stream",
       "stream": "stdout",
       "text": [
        "38640 "
       ]
      },
      {
       "output_type": "stream",
       "stream": "stdout",
       "text": [
        "38700 "
       ]
      },
      {
       "output_type": "stream",
       "stream": "stdout",
       "text": [
        "38760 "
       ]
      },
      {
       "output_type": "stream",
       "stream": "stdout",
       "text": [
        "38820 "
       ]
      },
      {
       "output_type": "stream",
       "stream": "stdout",
       "text": [
        "38880 "
       ]
      },
      {
       "output_type": "stream",
       "stream": "stdout",
       "text": [
        "38940 "
       ]
      },
      {
       "output_type": "stream",
       "stream": "stdout",
       "text": [
        "39000 "
       ]
      },
      {
       "output_type": "stream",
       "stream": "stdout",
       "text": [
        "39060 "
       ]
      },
      {
       "output_type": "stream",
       "stream": "stdout",
       "text": [
        "39120 "
       ]
      },
      {
       "output_type": "stream",
       "stream": "stdout",
       "text": [
        "39180 "
       ]
      },
      {
       "output_type": "stream",
       "stream": "stdout",
       "text": [
        "39240 "
       ]
      },
      {
       "output_type": "stream",
       "stream": "stdout",
       "text": [
        "39300 "
       ]
      },
      {
       "output_type": "stream",
       "stream": "stdout",
       "text": [
        "39360 "
       ]
      },
      {
       "output_type": "stream",
       "stream": "stdout",
       "text": [
        "39420 "
       ]
      },
      {
       "output_type": "stream",
       "stream": "stdout",
       "text": [
        "39480 "
       ]
      },
      {
       "output_type": "stream",
       "stream": "stdout",
       "text": [
        "39540 "
       ]
      },
      {
       "output_type": "stream",
       "stream": "stdout",
       "text": [
        "39600 "
       ]
      },
      {
       "output_type": "stream",
       "stream": "stdout",
       "text": [
        "39660 "
       ]
      },
      {
       "output_type": "stream",
       "stream": "stdout",
       "text": [
        "39720 "
       ]
      },
      {
       "output_type": "stream",
       "stream": "stdout",
       "text": [
        "39780 "
       ]
      },
      {
       "output_type": "stream",
       "stream": "stdout",
       "text": [
        "39840 "
       ]
      },
      {
       "output_type": "stream",
       "stream": "stdout",
       "text": [
        "39900 "
       ]
      },
      {
       "output_type": "stream",
       "stream": "stdout",
       "text": [
        "39960 "
       ]
      },
      {
       "output_type": "stream",
       "stream": "stdout",
       "text": [
        "40020 "
       ]
      },
      {
       "output_type": "stream",
       "stream": "stdout",
       "text": [
        "40080 "
       ]
      },
      {
       "output_type": "stream",
       "stream": "stdout",
       "text": [
        "40140 "
       ]
      },
      {
       "output_type": "stream",
       "stream": "stdout",
       "text": [
        "40200 "
       ]
      },
      {
       "output_type": "stream",
       "stream": "stdout",
       "text": [
        "40260 "
       ]
      },
      {
       "output_type": "stream",
       "stream": "stdout",
       "text": [
        "40320 "
       ]
      },
      {
       "output_type": "stream",
       "stream": "stdout",
       "text": [
        "40380 "
       ]
      },
      {
       "output_type": "stream",
       "stream": "stdout",
       "text": [
        "40440 "
       ]
      },
      {
       "output_type": "stream",
       "stream": "stdout",
       "text": [
        "40500\n"
       ]
      }
     ],
     "prompt_number": 20
    },
    {
     "cell_type": "code",
     "collapsed": false,
     "input": [
      "f.close()\n",
      "\n",
      "\n",
      "\n",
      "\n",
      "\n"
     ],
     "language": "python",
     "metadata": {},
     "outputs": [
      {
       "ename": "ValueError",
       "evalue": "Not a file id (Not a file id)",
       "output_type": "pyerr",
       "traceback": [
        "\u001b[0;31m---------------------------------------------------------------------------\u001b[0m\n\u001b[0;31mValueError\u001b[0m                                Traceback (most recent call last)",
        "\u001b[0;32m<ipython-input-16-fa01cc0d8510>\u001b[0m in \u001b[0;36m<module>\u001b[0;34m()\u001b[0m\n\u001b[0;32m----> 1\u001b[0;31m \u001b[0mf\u001b[0m\u001b[0;34m.\u001b[0m\u001b[0mclose\u001b[0m\u001b[0;34m(\u001b[0m\u001b[0;34m)\u001b[0m\u001b[0;34m\u001b[0m\u001b[0m\n\u001b[0m",
        "\u001b[0;32m/home/jlaura/anaconda/lib/python2.7/site-packages/h5py/_hl/files.pyc\u001b[0m in \u001b[0;36mclose\u001b[0;34m(self)\u001b[0m\n\u001b[1;32m    240\u001b[0m             \u001b[0;31m# Close file-resident objects first, then the files.\u001b[0m\u001b[0;34m\u001b[0m\u001b[0;34m\u001b[0m\u001b[0m\n\u001b[1;32m    241\u001b[0m             \u001b[0;31m# Otherwise we get errors in MPI mode.\u001b[0m\u001b[0;34m\u001b[0m\u001b[0;34m\u001b[0m\u001b[0m\n\u001b[0;32m--> 242\u001b[0;31m             \u001b[0mid_list\u001b[0m \u001b[0;34m=\u001b[0m \u001b[0mh5f\u001b[0m\u001b[0;34m.\u001b[0m\u001b[0mget_obj_ids\u001b[0m\u001b[0;34m(\u001b[0m\u001b[0mself\u001b[0m\u001b[0;34m.\u001b[0m\u001b[0mid\u001b[0m\u001b[0;34m,\u001b[0m \u001b[0;34m~\u001b[0m\u001b[0mh5f\u001b[0m\u001b[0;34m.\u001b[0m\u001b[0mOBJ_FILE\u001b[0m\u001b[0;34m)\u001b[0m\u001b[0;34m\u001b[0m\u001b[0m\n\u001b[0m\u001b[1;32m    243\u001b[0m             \u001b[0mfile_list\u001b[0m \u001b[0;34m=\u001b[0m \u001b[0mh5f\u001b[0m\u001b[0;34m.\u001b[0m\u001b[0mget_obj_ids\u001b[0m\u001b[0;34m(\u001b[0m\u001b[0mself\u001b[0m\u001b[0;34m.\u001b[0m\u001b[0mid\u001b[0m\u001b[0;34m,\u001b[0m \u001b[0mh5f\u001b[0m\u001b[0;34m.\u001b[0m\u001b[0mOBJ_FILE\u001b[0m\u001b[0;34m)\u001b[0m\u001b[0;34m\u001b[0m\u001b[0m\n\u001b[1;32m    244\u001b[0m \u001b[0;34m\u001b[0m\u001b[0m\n",
        "\u001b[0;32m/home/jlaura/anaconda/lib/python2.7/site-packages/h5py/_objects.so\u001b[0m in \u001b[0;36mh5py._objects.with_phil.wrapper (-------src-dir--------/h5py-2.4.0/h5py/_objects.c:2405)\u001b[0;34m()\u001b[0m\n",
        "\u001b[0;32m/home/jlaura/anaconda/lib/python2.7/site-packages/h5py/_objects.so\u001b[0m in \u001b[0;36mh5py._objects.with_phil.wrapper (-------src-dir--------/h5py-2.4.0/h5py/_objects.c:2362)\u001b[0;34m()\u001b[0m\n",
        "\u001b[0;32m/home/jlaura/anaconda/lib/python2.7/site-packages/h5py/h5f.so\u001b[0m in \u001b[0;36mh5py.h5f.get_obj_ids (-------src-dir--------/h5py-2.4.0/h5py/h5f.c:3044)\u001b[0;34m()\u001b[0m\n",
        "\u001b[0;31mValueError\u001b[0m: Not a file id (Not a file id)"
       ]
      }
     ],
     "prompt_number": 16
    },
    {
     "cell_type": "code",
     "collapsed": false,
     "input": [],
     "language": "python",
     "metadata": {},
     "outputs": []
    }
   ],
   "metadata": {}
  }
 ]
}