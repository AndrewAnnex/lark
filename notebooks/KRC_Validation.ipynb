{
 "cells": [
  {
   "cell_type": "code",
   "execution_count": null,
   "metadata": {},
   "outputs": [],
   "source": [
    "import os\n",
    "os.environ['ISISROOT'] = '/usgs/cpkgs/anaconda3_linux/envs/isis3.8.1'\n",
    "os.environ['PATH'] += ':/home/jlaura/anaconda3/envs/krc/bin/'\n",
    "import krc\n",
    "\n",
    "%pylab inline"
   ]
  },
  {
   "cell_type": "code",
   "execution_count": null,
   "metadata": {
    "collapsed": true
   },
   "outputs": [],
   "source": [
    "params = {\"albedo\": [0.08,0.22,0.32],\n",
    "          \"slope_azimuth\": [0],\n",
    "          \"slope\": [0.0],\n",
    "          \"tau\": [0.02,0.30,0.62],\n",
    "          \"elevation\": [-5.0,-2.0,-1.0,1.0,6.0,8.0],\n",
    "          \"inertia\": [40, 250, 400, 800, 1200],\n",
    "          \"emissivity\": [1.00]\n",
    "         }\n",
    "\n",
    "header = \"\"\"0 0 / KOLD: season to start with;  KEEP: continue saving data in same disk file\n",
    "Version {} default values.  37 latitudes with mean Mars zonal elevations       \n",
    "    ALBEDO     EMISS   INERTIA     COND2     DENS2    PERIOD SPEC_HEAT   DENSITY\n",
    "       .25      1.00     200.0      2.77     928.0    1.0275      647.     1600.\n",
    "      CABR       AMW    SatPrA    PTOTAL     FANON      TATM     TDEEP   SpHeat2\n",
    "      0.11      43.5   27.9546     546.0      .055      200.     180.0     1711.\n",
    "  TAUD/PHT     DUSTA    TAURAT     TWILI  ARC2/Pho ARC3/Safe     SLOPE    SLOAZI\n",
    "       0.3       .94     0.204       0.0      0.65     0.801       0.0       90.\n",
    "    TFROST    CFROST    AFROST     FEMIS       AF1       AF2    FROEXT    SatPrB\n",
    "     146.0   589944.       .65      0.95      0.54    0.0009       50.   3182.48\n",
    "      RLAY      FLAY     CONVF     DEPTH     DRSET       DDT       GGT     DTMAX\n",
    "    1.1500     {}       3.0       0.0       0.0     .0020       0.1       0.1\n",
    "      DJUL    DELJUL  SOLARDEC       DAU     LsubS    SOLCON      GRAV     AtmCp\n",
    "  -1222.69   8.58713      00.0     1.465        .0     1368.     3.727     735.9\n",
    "    ConUp0    ConUp1    ConUp2    ConUp3    ConLo0    ConLo1    ConLo2    ConLo3\n",
    "  0.038640 -0.002145  0.002347 -0.000750  2.766722 -1.298966  0.629224 -0.527291\n",
    "    SphUp0    SphUp1    SphUp2    SphUp3    SphLo0    SphLo1    SphLo2    SphLo3\n",
    "  646.6275  246.6678  -49.8216    7.9520  1710.648  721.8740  57.44873  24.37532\n",
    "        N1        N2        N3        N4        N5       N24       IIB       IC2\n",
    "        38      1536        15        37       320        48         0         7\n",
    "     NRSET      NMHA      NRUN     JDISK     IDOWN    FlxP14 TUN/Flx15     KPREF\n",
    "         3        24         0       241         0        45        65         1\n",
    "     K4OUT     JBARE     Notif    IDISK2                                     end\n",
    "        {}         0       200         0                                       0\n",
    "    LP1    LP2    LP3    LP4    LP5    LP6 LPGLOB   LVFA   LVFT  LkofT          \n",
    "      F      T      F      F      F      F      F      F      F      F          \n",
    "  LPORB   LKEY    LSC  LZONE  LOCAL  Prt76 LPTAVE  Prt78  Prt79  L_ONE          \n",
    "      T      F      F      F      T      F      F      F      F      F          \n",
    "Latitudes: in 10F7.2  _____7 _____7 _____7 _____7 _____7 _____7 _____7          \n",
    " -90.00 -85.00 -80.00 -75.00 -70.00 -65.00 -60.00 -55.00 -50.00 -45.00          \n",
    " -40.00 -35.00 -30.00 -25.00 -20.00 -15.00 -10.00  -5.00   0.00   5.00          \n",
    "  10.00  15.00  20.00  25.00  30.00  35.00  40.00  45.00  50.00  55.00          \n",
    "  60.00  65.00  70.00  75.00  80.00  85.00  90.00                               \n",
    " _____7 _____7 _____7 Elevations: in 10F7.2 ____7 _____7 _____7 _____7          \n",
    "{elev}                                                                              \n",
    " 2013 Jul 24 11:28:09=RUNTIME.  IPLAN AND TC= 104.0 0.10000 Mars:Mars           \n",
    "   104.0000      0.1000000      0.8644665      0.3226901E-01  -1.281586         \n",
    "  0.9340198E-01   1.523712      0.4090926       0.000000      0.9229373         \n",
    "   5.544402       0.000000       0.000000       686.9929       3397.977         \n",
    "   24.62296       0.000000      -1.240317       0.000000       0.000000         \n",
    "   0.000000      0.3244965      0.8559126      0.4026359     -0.9458869         \n",
    "  0.2936298      0.1381285       0.000000     -0.4256703      0.9048783\"\"\""
   ]
  },
  {
   "cell_type": "markdown",
   "metadata": {},
   "source": [
    "This block generates the change cards for the two different model runs. For the current setup, it takes about 2:30 to create the `.tds` files for  "
   ]
  },
  {
   "cell_type": "code",
   "execution_count": null,
   "metadata": {
    "collapsed": true
   },
   "outputs": [],
   "source": [
    "# Variables to set\n",
    "\n",
    "# Name of the directories where the test run will be written\n",
    "testdir_354 = '/scratch/jlaura/krc_compare/t2_354'\n",
    "testdir_362 = '/scratch/jlaura/krc_compare/t2_362'"
   ]
  },
  {
   "cell_type": "code",
   "execution_count": null,
   "metadata": {},
   "outputs": [],
   "source": [
    "from krc.changecards import changecards\n",
    "\n",
    "def get_header(version=354):\n",
    "    \"\"\"\n",
    "    This create a change card header for version >= 3.5.4.\n",
    "    \"\"\"\n",
    "    return header.format(354, .115, -2, elev={}) # This is setting the version number, flay, and k4out\n",
    "def get_321_header():\n",
    "    return header.format(321, .100, -1, elev={})\n",
    "\n",
    "# These are the names of the change cards\n",
    "cname_354 = os.path.join(testdir_354, 'o_354')\n",
    "cname_352 = os.path.join(testdir_362, 'o_362')\n",
    "\n",
    "# Create the change cards\n",
    "changecards.createchangecards(get_header(version=354), params,\n",
    "                              cname_354,\n",
    "                              testdir_354,\n",
    "                              log_inertias=False)\n",
    "changecards.createchangecards(get_header(version=362), params,\n",
    "                              cname_362,\n",
    "                              testdir_362,\n",
    "                              log_inertias=False)\n",
    "\n",
    "#Copy the 343 and 321 binaries into the respective directories.\n",
    "krc_354 = os.path.join(testdir_354, 'krc')\n",
    "krc_321 = os.path.join(testdir_362, 'krc')\n",
    "\n",
    "# And Copy Robin's compiled versions\n",
    "shutil.copyfile('/home/rfergason/bin/Krc/astrovm4/krc_354_2017Oct/run/krc', krc_354)\n",
    "#shutil.copyfile('/home/rfergason/bin/Krc/astrovm4/krc_321_2015MarchChanges/run/krcd', krc_321)\n",
    "shutil.copyfile('/home/rfergason/bin/Krc/astrovm4/krc_362_2019March/src/krc', krc_362)\n",
    "os.chmod(krc_354, 755)\n",
    "os.chmod(krc_362, 755)\n",
    "\n",
    "submitjob(testdir_362, '.inp', krc_362, 362, testdir_362)\n",
    "submitjob(testdir_354, '.inp', krc_354, 354, testdir_354)"
   ]
  },
  {
   "cell_type": "markdown",
   "metadata": {},
   "source": [
    "# Watch the queue\n",
    "\n",
    "I like to use `watch -n 2 squeue` on Astrovm4 to see how the queue is doing.  The above cell should generate 270 files in two directories (in the above case, `t1_321` and `t1_354`). I also like to use `ls *.tds | wc -l` to check to on V354 to see if I need to rerun the above cell. Robin, you need to have 270 `.tds` files. "
   ]
  },
  {
   "cell_type": "code",
   "execution_count": null,
   "metadata": {
    "scrolled": true
   },
   "outputs": [],
   "source": [
    "seasonal_354 = changecards.getfiles(testdir_354, params, 354, log_inertias=False)\n",
    "seasonal_321 = changecards.getfiles(testdir_321, params, 321, log_inertias=False)"
   ]
  },
  {
   "cell_type": "markdown",
   "metadata": {},
   "source": [
    "## Interpreting the plots\n",
    "\n",
    "The first (dashed seperators) set of parameters are the thermal inertia.  Within each thermal inertia, groups of 5 are the six different elevation parameters.  Within each elevation are 3 opacities and finally 3 albedos."
   ]
  },
  {
   "cell_type": "code",
   "execution_count": null,
   "metadata": {
    "scrolled": false
   },
   "outputs": [],
   "source": [
    "%pylab inline\n",
    "figsize(12,12)\n",
    "nparams = 270\n",
    "step = int(nparams/5)\n",
    "\n",
    "def descriptive_grid(ax, arr, title):\n",
    "    ax.plot(np.arange(nparams),arr, 'bo', alpha=0.25, markersize=3)\n",
    "    for j in range(step,nparams,step):\n",
    "        ax.plot((j, j), (np.min(arr)-1,np.max(arr)+1), 'k--', alpha=0.5)\n",
    "    for k in range(9,270,9):\n",
    "        if k % 54 == 0:\n",
    "            continue\n",
    "        ax.plot((k+.5, k+.5), (np.min(arr)-1,np.max(arr)+1), 'r--', alpha=0.15, linewidth=1)\n",
    "    ax.title.set_text(title)\n",
    "    ax.set_xticks([27,81,135,189,243])\n",
    "    ax.set_xticklabels([40, 250, 400, 800, 1200])\n",
    "    ax.tick_params('y', colors='k')\n",
    "    ax.set_xlabel('sk')\n",
    "    ax.set_ylabel('K')\n",
    "    return ax\n",
    "\n",
    "for i in range(80):\n",
    "    print('Season {}'.format(i))\n",
    "    a = seasonal_354[i]\n",
    "    b = seasonal_321[i]\n",
    "    fig,axes = plt.subplots(2,2)\n",
    "    # First index is time\n",
    "    # Second index is lat\n",
    "    # Third index is the parameter space\n",
    "    lat_indices = np.arange(-90, 95, 5)\n",
    "    time_indices = np.arange(0,48.5, 0.5)\n",
    "    no_poles = np.where((lat_indices <= 45) & (lat_indices >= -45))[0]\n",
    "    a = a[:,no_poles,:]\n",
    "    b = b[:,no_poles,:]\n",
    "    # Difference the two arrays\n",
    "    diff = b-a\n",
    "    \n",
    "    # Plot the min difference\n",
    "    mindiff = np.min(diff, axis=(0,1))\n",
    "    descriptive_grid(axes[0][0], mindiff, 'min')\n",
    "\n",
    "    # Plot the maximum difference\n",
    "    maxdiff = np.max(diff, axis=(0,1))\n",
    "    descriptive_grid(axes[0][1], maxdiff, 'max')\n",
    "\n",
    "    # Plot the mean difference\n",
    "    meandiff = np.mean(diff, axis=(0,1))\n",
    "    descriptive_grid(axes[1][0], meandiff, 'mean')\n",
    "\n",
    "    # Plot the std difference\n",
    "    stddiff = np.std(diff, axis=(0,1))\n",
    "    descriptive_grid(axes[1][1], stddiff, 'std')\n",
    "    show()\n",
    "    print()"
   ]
  },
  {
   "cell_type": "code",
   "execution_count": null,
   "metadata": {
    "collapsed": true
   },
   "outputs": [],
   "source": []
  }
 ],
 "metadata": {
  "kernelspec": {
   "display_name": "KRC",
   "language": "python",
   "name": "krcval"
  },
  "language_info": {
   "codemirror_mode": {
    "name": "ipython",
    "version": 3
   },
   "file_extension": ".py",
   "mimetype": "text/x-python",
   "name": "python",
   "nbconvert_exporter": "python",
   "pygments_lexer": "ipython3",
   "version": "3.7.3"
  }
 },
 "nbformat": 4,
 "nbformat_minor": 2
}
